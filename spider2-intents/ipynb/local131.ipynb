{
 "cells": [
  {
   "cell_type": "code",
   "execution_count": null,
   "id": "4ff4a69e",
   "metadata": {},
   "outputs": [],
   "source": [
    "import sys\n",
    "import os\n",
    "sys.path.append(os.path.abspath(os.path.join(os.getcwd(), \"..\", \"..\")))\n",
    "from spider2_utils import load_csv_database"
   ]
  },
  {
   "cell_type": "markdown",
   "id": "7908a52c",
   "metadata": {},
   "source": [
    "-setup-"
   ]
  },
  {
   "cell_type": "code",
   "execution_count": null,
   "id": "6611b24e",
   "metadata": {},
   "outputs": [],
   "source": [
    "import pandas as pd\n",
    "_database = load_csv_database(\"EntertainmentAgency\", rows_limit=-1)\n",
    "musical_preferences = _database[\"Musical_Preferences\"]\n",
    "musical_styles = _database[\"Musical_Styles\"]"
   ]
  },
  {
   "cell_type": "markdown",
   "id": "f5440581",
   "metadata": {},
   "source": [
    "### Question\n",
    "\n",
    "Could you list each musical style with the number of times it appears as a 1st, 2nd, or 3rd preference in a single row per style?"
   ]
  },
  {
   "cell_type": "markdown",
   "id": "474d34d1",
   "metadata": {},
   "source": [
    "Step 1: Create separate columns for each preference (1st, 2nd, 3rd)\n"
   ]
  },
  {
   "cell_type": "code",
   "execution_count": null,
   "id": "9775d602",
   "metadata": {},
   "outputs": [],
   "source": [
    "\n",
    "ranked = pd.DataFrame({\n",
    "    'FirstStyle': musical_preferences.loc[musical_preferences['PreferenceSeq'] == 1, 'StyleID'],\n",
    "    'SecondStyle': musical_preferences.loc[musical_preferences['PreferenceSeq'] == 2, 'StyleID'],\n",
    "    'ThirdStyle': musical_preferences.loc[musical_preferences['PreferenceSeq'] == 3, 'StyleID']\n",
    "})"
   ]
  },
  {
   "cell_type": "markdown",
   "id": "97dbf020",
   "metadata": {},
   "source": [
    "Step 2: Stack and count preferences\n"
   ]
  },
  {
   "cell_type": "code",
   "execution_count": null,
   "id": "fa5615ff",
   "metadata": {},
   "outputs": [],
   "source": [
    "counts = pd.DataFrame()\n",
    "\n",
    "for col in ['FirstStyle', 'SecondStyle', 'ThirdStyle']:\n",
    "    temp = ranked[[col]].dropna().value_counts().reset_index()\n",
    "    temp.columns = ['StyleID', col]\n",
    "    if counts.empty:\n",
    "        counts = temp\n",
    "    else:\n",
    "        counts = counts.merge(temp, on='StyleID', how='outer')"
   ]
  },
  {
   "cell_type": "markdown",
   "id": "3b9bfb1b",
   "metadata": {},
   "source": [
    "Step 3: Fill missing counts with 0\n"
   ]
  },
  {
   "cell_type": "code",
   "execution_count": null,
   "id": "080c85ec",
   "metadata": {},
   "outputs": [],
   "source": [
    "counts = counts.fillna(0).astype({'FirstStyle': int, 'SecondStyle': int, 'ThirdStyle': int})"
   ]
  },
  {
   "cell_type": "markdown",
   "id": "2e85b3e0",
   "metadata": {},
   "source": [
    "Step 5: Merge with style names\n"
   ]
  },
  {
   "cell_type": "code",
   "execution_count": null,
   "id": "6d097893",
   "metadata": {},
   "outputs": [],
   "source": [
    "result = counts.merge(musical_styles, on='StyleID')"
   ]
  },
  {
   "cell_type": "markdown",
   "id": "c2e38eef",
   "metadata": {},
   "source": [
    "Step 6: Filter out rows where all counts are 0\n"
   ]
  },
  {
   "cell_type": "code",
   "execution_count": null,
   "id": "57981994",
   "metadata": {},
   "outputs": [],
   "source": [
    "result = result[\n",
    "    (result['FirstStyle'] > 0) |\n",
    "    (result['SecondStyle'] > 0) |\n",
    "    (result['ThirdStyle'] > 0)\n",
    "]"
   ]
  },
  {
   "cell_type": "markdown",
   "id": "caa1e17f",
   "metadata": {},
   "source": [
    "Step 7: Sort and select result columns\n"
   ]
  },
  {
   "cell_type": "code",
   "execution_count": null,
   "id": "0e36af73",
   "metadata": {},
   "outputs": [],
   "source": [
    "result = result.sort_values(\n",
    "    by=['FirstStyle', 'SecondStyle', 'ThirdStyle', 'StyleID'],\n",
    "    ascending=[False, False, False, True]\n",
    ")[['StyleName', 'FirstStyle', 'SecondStyle', 'ThirdStyle']]\n"
   ]
  }
 ],
 "metadata": {
  "kernelspec": {
   "display_name": "kaggle_env",
   "language": "python",
   "name": "python3"
  },
  "language_info": {
   "codemirror_mode": {
    "name": "ipython",
    "version": 3
   },
   "file_extension": ".py",
   "mimetype": "text/x-python",
   "name": "python",
   "nbconvert_exporter": "python",
   "pygments_lexer": "ipython3",
   "version": "3.13.1"
  }
 },
 "nbformat": 4,
 "nbformat_minor": 5
}
