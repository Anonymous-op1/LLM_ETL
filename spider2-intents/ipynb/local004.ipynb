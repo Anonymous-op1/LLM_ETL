{
 "cells": [
  {
   "cell_type": "code",
   "execution_count": null,
   "id": "29b9231c",
   "metadata": {},
   "outputs": [],
   "source": [
    "#Code to get the load_csv_database function.\n",
    "#We pass this function as context so there's no need to include it when we parse the notebook\n",
    "import sys\n",
    "import os\n",
    "sys.path.append(os.path.abspath(os.path.join(os.getcwd(), \"..\", \"..\")))\n",
    "from spider2_utils import load_csv_database"
   ]
  },
  {
   "cell_type": "markdown",
   "id": "5f8c898f",
   "metadata": {},
   "source": [
    "-setup-"
   ]
  },
  {
   "cell_type": "code",
   "execution_count": null,
   "id": "aa562dd6",
   "metadata": {},
   "outputs": [],
   "source": [
    "_database = load_csv_database(\"E_commerce\", rows_limit=-1)\n",
    "import pandas as pd\n",
    "\n",
    "customers = _database[\"customers\"]\n",
    "orders = _database[\"orders\"]\n",
    "order_items = _database[\"order_items\"]\n",
    "products = _database[\"products\"]\n",
    "geolocation = _database[\"geolocation\"]\n",
    "leads_closed = _database[\"leads_closed\"]\n",
    "leads_qualified = _database[\"leads_qualified\"]\n",
    "order_payments = _database[\"order_payments\"]\n",
    "order_reviews = _database[\"order_reviews\"]\n",
    "products = _database[\"products\"]\n",
    "product_category_name_translation = _database[\"product_category_name_translation\"]\n",
    "sellers = _database[\"sellers\"]"
   ]
  },
  {
   "cell_type": "markdown",
   "id": "9df38dd2",
   "metadata": {},
   "source": [
    "# Question\n",
    "\n",
    "Could you tell me the number of orders, average payment per order and customer lifespan in weeks of the 3 custumers with the highest average payment per order, where the lifespan is calculated by subtracting the earliest purchase date from the latest purchase date in days, dividing by seven, and if the result is less than seven days, setting it to 1.0?"
   ]
  },
  {
   "cell_type": "markdown",
   "id": "d885caa1",
   "metadata": {},
   "source": [
    "# Step 1: Aggregate Customer Data\n",
    "Calculate the total number of orders, total payment, and the time range of orders for each customer."
   ]
  },
  {
   "cell_type": "code",
   "execution_count": null,
   "id": "8980b263",
   "metadata": {},
   "outputs": [],
   "source": [
    "\n",
    "# Assuming customers, orders, and order_payments DataFrames are already loaded\n",
    "customer_data = orders.merge(order_payments, on='order_id')\n",
    "customer_data = customer_data.merge(customers, on='customer_id')\n",
    "date_fmt = \"%Y-%m-%d %H:%M:%S\"\n",
    "customer_data = customer_data.groupby('customer_unique_id').agg(\n",
    "    order_count=('order_id', 'nunique'),\n",
    "    total_payment=('payment_value', 'sum'),\n",
    "    first_order_day=('order_purchase_timestamp', lambda x: pd.to_datetime(x, format=date_fmt).min().to_julian_date()),\n",
    "    last_order_day=('order_purchase_timestamp', lambda x: pd.to_datetime(x, format=date_fmt).max().to_julian_date())\n",
    ").reset_index()"
   ]
  },
  {
   "cell_type": "markdown",
   "id": "17fcb30d",
   "metadata": {},
   "source": [
    "# Step 2: Calculate Purchase Frequency (PF)\n",
    "Determine the purchase frequency for each customer."
   ]
  },
  {
   "cell_type": "code",
   "execution_count": null,
   "id": "682b873b",
   "metadata": {},
   "outputs": [],
   "source": [
    "customer_data['PF'] = customer_data['order_count']"
   ]
  },
  {
   "cell_type": "markdown",
   "id": "a1f44f37",
   "metadata": {},
   "source": [
    "# Step 3: Calculate Average Order Value (AOV)\n",
    "Compute the average order value for each customer."
   ]
  },
  {
   "cell_type": "code",
   "execution_count": null,
   "id": "7e9d5756",
   "metadata": {},
   "outputs": [],
   "source": [
    "customer_data['AOV'] = (customer_data['total_payment'] / customer_data['order_count']).round(2)"
   ]
  },
  {
   "cell_type": "markdown",
   "id": "48af5bc5",
   "metadata": {},
   "source": [
    "# Step 4: Calculate Average Customer Length (ACL)\n",
    "Calculate the time range of orders in weeks for each customer."
   ]
  },
  {
   "cell_type": "code",
   "execution_count": null,
   "id": "a712e112",
   "metadata": {},
   "outputs": [],
   "source": [
    "customer_data['ACL'] = customer_data.apply(\n",
    "    lambda row: 1 if (row['last_order_day'] - row['first_order_day']) < 7 else (row['last_order_day'] - row['first_order_day']) / 7,\n",
    "    axis=1\n",
    ")"
   ]
  },
  {
   "cell_type": "markdown",
   "id": "53d40a79",
   "metadata": {},
   "source": [
    "# Step 5: Select the top 3 customers with highest AOV"
   ]
  },
  {
   "cell_type": "code",
   "execution_count": null,
   "id": "a78269e8",
   "metadata": {},
   "outputs": [],
   "source": [
    "# Select the top 3 customers with highest AOV\n",
    "top3_customers = customer_data.sort_values(by='AOV', ascending=False).head(3)\n",
    "top3_customers[['customer_unique_id', 'order_count', 'AOV', 'ACL']]\n"
   ]
  },
  {
   "cell_type": "code",
   "execution_count": null,
   "id": "7cad4f45",
   "metadata": {},
   "outputs": [],
   "source": [
    "# spider2 gold exec results\n",
    "# customer_unique_id\tPF\tAOV\tACL\n",
    "# 0a0a92112bd4c708ca5fde585afaa872\t1\t13664.08\t1\n",
    "# 763c8b1c9c68a0229c42c9fc6f662b93\t1\t7274.88\t1\n",
    "# dc4802a71eae9be1dd28f5d788ceb526\t1\t6929.31\t1Í"
   ]
  }
 ],
 "metadata": {
  "kernelspec": {
   "display_name": ".venv",
   "language": "python",
   "name": "python3"
  },
  "language_info": {
   "codemirror_mode": {
    "name": "ipython",
    "version": 3
   },
   "file_extension": ".py",
   "mimetype": "text/x-python",
   "name": "python",
   "nbconvert_exporter": "python",
   "pygments_lexer": "ipython3",
   "version": "3.9.21"
  }
 },
 "nbformat": 4,
 "nbformat_minor": 5
}
