{
 "cells": [
  {
   "cell_type": "code",
   "execution_count": null,
   "id": "0e1972e9",
   "metadata": {},
   "outputs": [],
   "source": [
    "import os\n",
    "import pandas as pd\n",
    "import re\n",
    "import math\n",
    "import copy\n",
    "import numpy as np\n",
    "import sys\n",
    "# Add the root directory /workspaces/llm_etl to sys.path\n",
    "sys.path.append(os.path.abspath(os.path.join('..', '..')))\n",
    "# Now import your module\n",
    "from spider2_utils import load_csv_database\n",
    "\n"
   ]
  },
  {
   "cell_type": "markdown",
   "id": "0801f8b8",
   "metadata": {},
   "source": [
    "-setup-"
   ]
  },
  {
   "cell_type": "code",
   "execution_count": null,
   "id": "7b1a27e6",
   "metadata": {},
   "outputs": [],
   "source": [
    "import pandas as pd\n",
    "_database = load_csv_database(\"modern_data\", rows_limit=-1)\n",
    "pizza_clean_customer_orders = _database[\"pizza_clean_customer_orders\"]\n",
    "pizza_clean_runner_orders = _database[\"pizza_clean_runner_orders\"]"
   ]
  },
  {
   "cell_type": "markdown",
   "id": "911b6620",
   "metadata": {},
   "source": [
    "### Question\n",
    "Calculate the total income from Meat Lovers pizzas priced at $12 and Vegetarian pizzas at $10. Include any extra toppings charged at $1 each. Ensure that canceled orders are filtered out. How much money has Pizza Runner earned in total?"
   ]
  },
  {
   "cell_type": "markdown",
   "id": "763a3a24",
   "metadata": {},
   "source": [
    "### User Intent 1: Split 'extras' field by ',' and flatten into (order_id, each_extra)"
   ]
  },
  {
   "cell_type": "code",
   "execution_count": null,
   "id": "a1800ed7",
   "metadata": {},
   "outputs": [],
   "source": [
    "def split_extras(row):\n",
    "    if pd.isna(row['extras']):\n",
    "        return []\n",
    "    extras = [extra.strip() for extra in row['extras'].split(',') if extra.strip()]\n",
    "    return [{'order_id': row['order_id'], 'each_extra': extra} for extra in extras]\n",
    "\n",
    "exploded_extras = pizza_clean_customer_orders.apply(split_extras, axis=1)\n",
    "exploded_extras = pd.DataFrame([item for sublist in exploded_extras for item in sublist])"
   ]
  },
  {
   "cell_type": "markdown",
   "id": "29327df8",
   "metadata": {},
   "source": [
    "### User Intent 2: Count total extras per order_id"
   ]
  },
  {
   "cell_type": "code",
   "execution_count": null,
   "id": "7d48543e",
   "metadata": {},
   "outputs": [],
   "source": [
    "get_extras_count = exploded_extras.groupby('order_id').size().reset_index(name='total_extras')"
   ]
  },
  {
   "cell_type": "markdown",
   "id": "10c9acca",
   "metadata": {},
   "source": [
    "### User Intent 3: Filter out cancelled orders from runner orders"
   ]
  },
  {
   "cell_type": "code",
   "execution_count": null,
   "id": "9c5d7a39",
   "metadata": {},
   "outputs": [],
   "source": [
    "valid_runner_orders = pizza_clean_runner_orders[pizza_clean_runner_orders['cancellation'].isna()]"
   ]
  },
  {
   "cell_type": "markdown",
   "id": "773a2f0f",
   "metadata": {},
   "source": [
    "### User Intent 4: Join customer and runner orders on 'order_id'"
   ]
  },
  {
   "cell_type": "code",
   "execution_count": null,
   "id": "c79a0446",
   "metadata": {},
   "outputs": [],
   "source": [
    "orders_joined = pd.merge(pizza_clean_customer_orders, valid_runner_orders, on='order_id', how='inner')"
   ]
  },
  {
   "cell_type": "markdown",
   "id": "2b306bfe",
   "metadata": {},
   "source": [
    "### User Intent 5: Left join with total_extras per order_id"
   ]
  },
  {
   "cell_type": "code",
   "execution_count": null,
   "id": "43ebc0cb",
   "metadata": {},
   "outputs": [],
   "source": [
    "orders_with_extras = pd.merge(orders_joined, get_extras_count, on='order_id', how='left')\n",
    "orders_with_extras['total_extras'] = orders_with_extras['total_extras'].fillna(0).astype(int)"
   ]
  },
  {
   "cell_type": "markdown",
   "id": "01ff1c5e",
   "metadata": {},
   "source": [
    "### User Intent 6: Calculate total price based on pizza_id"
   ]
  },
  {
   "cell_type": "code",
   "execution_count": null,
   "id": "b5587af8",
   "metadata": {},
   "outputs": [],
   "source": [
    "orders_with_extras['price'] = orders_with_extras['pizza_id'].map({1: 12, 2: 10})"
   ]
  },
  {
   "cell_type": "markdown",
   "id": "b25111a4",
   "metadata": {},
   "source": [
    "### User Intent 7: Group by to get total_price and extras per order"
   ]
  },
  {
   "cell_type": "code",
   "execution_count": null,
   "id": "8287c3c7",
   "metadata": {},
   "outputs": [],
   "source": [
    "calculate_totals = orders_with_extras.groupby(['order_id', 'pizza_id', 'total_extras'], as_index=False)[['price']].sum()\n",
    "calculate_totals.rename(columns={'price': 'total_price'}, inplace=True)"
   ]
  },
  {
   "cell_type": "markdown",
   "id": "8e1eccdd",
   "metadata": {},
   "source": [
    "### User Intent 8: Calculate total income as sum of price and extras"
   ]
  },
  {
   "cell_type": "code",
   "execution_count": null,
   "id": "50af732c",
   "metadata": {},
   "outputs": [],
   "source": [
    "total_income = calculate_totals['total_price'].sum() + calculate_totals['total_extras'].sum()\n",
    "print('Total Income:', total_income)"
   ]
  }
 ],
 "metadata": {
  "kernelspec": {
   "display_name": "kaggle_env",
   "language": "python",
   "name": "python3"
  },
  "language_info": {
   "codemirror_mode": {
    "name": "ipython",
    "version": 3
   },
   "file_extension": ".py",
   "mimetype": "text/x-python",
   "name": "python",
   "nbconvert_exporter": "python",
   "pygments_lexer": "ipython3",
   "version": "3.13.1"
  }
 },
 "nbformat": 4,
 "nbformat_minor": 5
}
