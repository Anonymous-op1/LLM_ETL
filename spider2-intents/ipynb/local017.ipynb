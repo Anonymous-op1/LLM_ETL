{
 "cells": [
  {
   "cell_type": "code",
   "execution_count": null,
   "id": "4eeafa50",
   "metadata": {},
   "outputs": [],
   "source": [
    "#Code to get the load_csv_database function.\n",
    "#We pass this function as context so there's no need to include it when we parse the notebook\n",
    "import sys\n",
    "import os\n",
    "sys.path.append(os.path.abspath(os.path.join(os.getcwd(), \"..\", \"..\")))\n",
    "from spider2_utils import load_csv_database"
   ]
  },
  {
   "cell_type": "markdown",
   "id": "25c52081",
   "metadata": {},
   "source": [
    "-setup-"
   ]
  },
  {
   "cell_type": "code",
   "execution_count": null,
   "id": "f58c9144",
   "metadata": {},
   "outputs": [],
   "source": [
    "import pandas as pd\n",
    "_database = load_csv_database(\"California_Traffic_Collision\", rows_limit=-1)\n",
    "collisions = _database[\"collisions\"]"
   ]
  },
  {
   "cell_type": "markdown",
   "id": "30ebf3f9",
   "metadata": {},
   "source": [
    "# Question\n",
    "In which year were the two most common causes of traffic accidents different from those in other years?"
   ]
  },
  {
   "cell_type": "markdown",
   "id": "502c7972",
   "metadata": {},
   "source": [
    "# Step 1: Calculate Category Totals\n",
    "Aggregate the total number of cases for each category and year."
   ]
  },
  {
   "cell_type": "code",
   "execution_count": null,
   "id": "8c2655cb",
   "metadata": {},
   "outputs": [],
   "source": [
    "category_totals = collisions.copy()\n",
    "category_totals['Year'] = pd.to_datetime(category_totals['collision_date']).dt.year\n",
    "category_totals = category_totals.groupby(['Year', 'pcf_violation_category']).agg(\n",
    "    Subtotal=('case_id', 'count')\n",
    ").reset_index()"
   ]
  },
  {
   "cell_type": "markdown",
   "id": "4a25b9c0",
   "metadata": {},
   "source": [
    "# Step 2: Find the Top 2 Causes for Each Year\n",
    "For each year, identify the two most common primary collision factor violation categories."
   ]
  },
  {
   "cell_type": "code",
   "execution_count": null,
   "id": "42edf196",
   "metadata": {},
   "outputs": [],
   "source": [
    "top2_causes_per_year = category_totals.sort_values(['Year', 'Subtotal'], ascending=[True, False]) \\\n",
    "    .groupby('Year').head(2)\n",
    "top2_causes_per_year = top2_causes_per_year.groupby('Year')['pcf_violation_category'].apply(list).reset_index()\n",
    "top2_causes_per_year.columns = ['Year', 'Top2Causes']"
   ]
  },
  {
   "cell_type": "markdown",
   "id": "7e538a44",
   "metadata": {},
   "source": [
    "# Step 3: Compare Top 2 Causes Across Years\n",
    "Find the years where the top 2 causes are different from those in all other years."
   ]
  },
  {
   "cell_type": "code",
   "execution_count": null,
   "id": "18cb69ef",
   "metadata": {},
   "outputs": [],
   "source": [
    "# Find years with unique top 2 causes\n",
    "from collections import Counter\n",
    "cause_counts = Counter(tuple(sorted(causes)) for causes in top2_causes_per_year['Top2Causes'])\n",
    "top2_causes_per_year['IsUnique'] = top2_causes_per_year['Top2Causes'].apply(lambda x: cause_counts[tuple(sorted(x))] == 1)\n",
    "unique_years = top2_causes_per_year[top2_causes_per_year['IsUnique']]\n",
    "final_result = unique_years[['Year']]"
   ]
  }
 ],
 "metadata": {
  "kernelspec": {
   "display_name": "kaggle_env",
   "language": "python",
   "name": "python3"
  },
  "language_info": {
   "codemirror_mode": {
    "name": "ipython",
    "version": 3
   },
   "file_extension": ".py",
   "mimetype": "text/x-python",
   "name": "python",
   "nbconvert_exporter": "python",
   "pygments_lexer": "ipython3",
   "version": "3.13.1"
  }
 },
 "nbformat": 4,
 "nbformat_minor": 5
}
