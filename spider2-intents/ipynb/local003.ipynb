{
 "cells": [
  {
   "cell_type": "code",
   "execution_count": null,
   "id": "d146ed07",
   "metadata": {},
   "outputs": [],
   "source": [
    "#Code to get the load_csv_database function.\n",
    "#We pass this function as context so there's no need to include it when we parse the notebook\n",
    "import sys\n",
    "import os\n",
    "sys.path.append(os.path.abspath(os.path.join(os.getcwd(), \"..\", \"..\")))\n",
    "from spider2_utils import load_csv_database\n"
   ]
  },
  {
   "cell_type": "markdown",
   "id": "75df5bf3",
   "metadata": {},
   "source": [
    "-setup-"
   ]
  },
  {
   "cell_type": "code",
   "execution_count": null,
   "id": "00b9417a",
   "metadata": {},
   "outputs": [],
   "source": [
    "import pandas as pd\n",
    "_database = load_csv_database(\"E_commerce\", rows_limit=-1)\n",
    "\n",
    "customers = _database[\"customers\"]\n",
    "orders = _database[\"orders\"]\n",
    "order_items = _database[\"order_items\"]\n",
    "products = _database[\"products\"]\n",
    "geolocation = _database[\"geolocation\"]\n",
    "leads_closed = _database[\"leads_closed\"]\n",
    "leads_qualified = _database[\"leads_qualified\"]\n",
    "order_payments = _database[\"order_payments\"]\n",
    "order_reviews = _database[\"order_reviews\"]\n",
    "products = _database[\"products\"]\n",
    "product_category_name_translation = _database[\"product_category_name_translation\"]\n",
    "sellers = _database[\"sellers\"]"
   ]
  },
  {
   "cell_type": "markdown",
   "id": "fcbda680",
   "metadata": {},
   "source": [
    "# Question\n",
    "According to the RFM definition document, calculate the average sales per order for each customer within distinct RFM segments, considering only 'delivered' orders. Use the customer unique identifier. Clearly define how to calculate Recency based on the latest purchase timestamp and specify the criteria for classifying RFM segments. The average sales should be computed as the total spend divided by the total number of orders. Please analyze and report the differences in average sales across the RFM segments"
   ]
  },
  {
   "cell_type": "markdown",
   "id": "ca5288c0",
   "metadata": {},
   "source": [
    "# Step 1: Calculate Recency Score\n",
    "Group customers based on the recency of their last purchase."
   ]
  },
  {
   "cell_type": "code",
   "execution_count": null,
   "id": "2c521265",
   "metadata": {},
   "outputs": [],
   "source": [
    "import pandas as pd\n",
    "import numpy as np\n",
    "\n",
    "# Assuming orders and customers DataFrames are already loaded\n",
    "recency_score = orders[orders['order_status'] == 'delivered']\n",
    "recency_score = recency_score.merge(customers, on='customer_id')\n",
    "recency_score = recency_score.groupby('customer_unique_id').agg(\n",
    "    last_purchase=('order_purchase_timestamp', 'max')\n",
    ").reset_index()\n",
    "recency_score['recency'] = pd.qcut(\n",
    "    recency_score['last_purchase'].rank(method='first', ascending=False), 5, labels=False\n",
    ") + 1"
   ]
  },
  {
   "cell_type": "markdown",
   "id": "93e56a43",
   "metadata": {},
   "source": [
    "# Step 2: Calculate Frequency Score\n",
    "Group customers based on the number of orders they have placed."
   ]
  },
  {
   "cell_type": "code",
   "execution_count": null,
   "id": "c5574638",
   "metadata": {},
   "outputs": [],
   "source": [
    "frequency_score = orders[orders['order_status'] == 'delivered']\n",
    "frequency_score = frequency_score.merge(customers, on='customer_id')\n",
    "frequency_score = frequency_score.groupby('customer_unique_id').agg(\n",
    "    total_orders=('order_id', 'count')\n",
    ").reset_index()\n",
    "frequency_score['frequency'] = pd.qcut(\n",
    "    frequency_score['total_orders'].rank(method='first', ascending=False), 5, labels=False\n",
    ") + 1"
   ]
  },
  {
   "cell_type": "markdown",
   "id": "92d7470d",
   "metadata": {},
   "source": [
    "# Step 3: Calculate Monetary Score\n",
    "Group customers based on the total amount they have spent."
   ]
  },
  {
   "cell_type": "code",
   "execution_count": null,
   "id": "5d80932c",
   "metadata": {},
   "outputs": [],
   "source": [
    "monetary_score = orders[orders['order_status'] == 'delivered']\n",
    "monetary_score = monetary_score.merge(order_items, on='order_id')\n",
    "monetary_score = monetary_score.merge(customers, on='customer_id')\n",
    "monetary_score = monetary_score.groupby('customer_unique_id').agg(\n",
    "    total_spent=('price', 'sum')\n",
    ").reset_index()\n",
    "monetary_score['monetary'] = pd.qcut(\n",
    "    monetary_score['total_spent'].rank(method='first', ascending=False), 5, labels=False\n",
    ") + 1"
   ]
  },
  {
   "cell_type": "markdown",
   "id": "f2aeba9b",
   "metadata": {},
   "source": [
    "# Step 4: Assign RFM Buckets\n",
    "Classify customers into RFM buckets based on their scores."
   ]
  },
  {
   "cell_type": "code",
   "execution_count": null,
   "id": "37b2dba9",
   "metadata": {},
   "outputs": [],
   "source": [
    "rfm = recency_score.merge(frequency_score, on='customer_unique_id')\n",
    "rfm = rfm.merge(monetary_score, on='customer_unique_id')\n",
    "\n",
    "def assign_rfm_bucket(row):\n",
    "    if row['recency'] == 1 and row['frequency'] + row['monetary'] in [1, 2, 3, 4]:\n",
    "        return 'Champions'\n",
    "    elif row['recency'] in [4, 5] and row['frequency'] + row['monetary'] in [1, 2]:\n",
    "        return \"Can't Lose Them\"\n",
    "    elif row['recency'] in [4, 5] and row['frequency'] + row['monetary'] in [3, 4, 5, 6]:\n",
    "        return 'Hibernating'\n",
    "    elif row['recency'] in [4, 5] and row['frequency'] + row['monetary'] in [7, 8, 9, 10]:\n",
    "        return 'Lost'\n",
    "    elif row['recency'] in [2, 3] and row['frequency'] + row['monetary'] in [1, 2, 3, 4]:\n",
    "        return 'Loyal Customers'\n",
    "    elif row['recency'] == 3 and row['frequency'] + row['monetary'] in [5, 6]:\n",
    "        return 'Needs Attention'\n",
    "    elif row['recency'] == 1 and row['frequency'] + row['monetary'] in [7, 8]:\n",
    "        return 'Recent Users'\n",
    "    elif ((row['recency'] == 1 and row['frequency'] + row['monetary'] in [5, 6]) or \n",
    "         (row['recency'] == 2 and row['frequency'] + row['monetary'] in [5, 6, 7, 8])):\n",
    "        return 'Potential Loyalists'\n",
    "    elif row['recency'] == 1 and row['frequency'] + row['monetary'] in [9, 10]:\n",
    "        return 'Price Sensitive'\n",
    "    elif row['recency'] == 2 and row['frequency'] + row['monetary'] in [9, 10]:\n",
    "        return 'Promising'\n",
    "    elif row['recency'] == 3 and row['frequency'] + row['monetary'] in [7, 8, 9, 10]:\n",
    "        return 'About to Sleep'\n",
    "\n",
    "rfm['RFM_Bucket'] = rfm.apply(assign_rfm_bucket, axis=1)"
   ]
  },
  {
   "cell_type": "markdown",
   "id": "787c6d7a",
   "metadata": {},
   "source": [
    "# Step 5: Calculate Average Sales per Customer\n",
    "Compute the average sales per customer for each RFM bucket."
   ]
  },
  {
   "cell_type": "code",
   "execution_count": null,
   "id": "1fefb217",
   "metadata": {},
   "outputs": [],
   "source": [
    "avg_sales = rfm.groupby('RFM_Bucket').apply(\n",
    "    lambda x: (x['total_spent'] / x['total_orders']).mean()\n",
    ").reset_index(name='avg_sales_per_customer')"
   ]
  },
  {
   "cell_type": "code",
   "execution_count": null,
   "id": "7b43d836",
   "metadata": {},
   "outputs": [],
   "source": [
    "# avg_sales"
   ]
  },
  {
   "cell_type": "code",
   "execution_count": null,
   "id": "4c684861",
   "metadata": {},
   "outputs": [],
   "source": [
    "# spider 2 gold exec results\n",
    "# RFM_Bucket              avg_sales_per_customer\n",
    "# About to Sleep\t        57.68495912447257\n",
    "# Can't Lose Them\t        350.8868165989553\n",
    "# Champions\t            250.8568210435466\n",
    "# Hibernating\t            182.8458159996057\n",
    "# Lost\t                57.39320983627944\n",
    "# Loyal Customers\t        237.88125736097265\n",
    "# Needs Attention\t        145.90492498719917\n",
    "# Potentital Loyalists\t130.37477273563726\n",
    "# Price Sensitive\t        34.90935135135135\n",
    "# Promising\t            35.08535857461025\n",
    "# Recent Users\t        67.64212875853163"
   ]
  }
 ],
 "metadata": {
  "kernelspec": {
   "display_name": "kaggle_env",
   "language": "python",
   "name": "python3"
  },
  "language_info": {
   "codemirror_mode": {
    "name": "ipython",
    "version": 3
   },
   "file_extension": ".py",
   "mimetype": "text/x-python",
   "name": "python",
   "nbconvert_exporter": "python",
   "pygments_lexer": "ipython3",
   "version": "3.13.1"
  }
 },
 "nbformat": 4,
 "nbformat_minor": 5
}
