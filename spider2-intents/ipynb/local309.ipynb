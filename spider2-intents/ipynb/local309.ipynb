{
 "cells": [
  {
   "cell_type": "code",
   "execution_count": null,
   "metadata": {},
   "outputs": [],
   "source": [
    "import sys\n",
    "import os\n",
    "sys.path.append(os.path.abspath(os.path.join(os.getcwd(), \"..\", \"..\")))\n",
    "from spider2_utils import load_csv_database"
   ]
  },
  {
   "cell_type": "markdown",
   "metadata": {},
   "source": [
    "-setup-"
   ]
  },
  {
   "cell_type": "code",
   "execution_count": null,
   "metadata": {},
   "outputs": [],
   "source": [
    "import pandas as pd\n",
    "_database = load_csv_database(\"f1\", rows_limit=-1)\n",
    "results = _database['results']\n",
    "drivers = _database['drivers']\n",
    "races = _database['races']\n",
    "constructors = _database['constructors']"
   ]
  },
  {
   "cell_type": "markdown",
   "metadata": {},
   "source": [
    "### Question\n",
    "\n",
    "For each year, which driver and which constructor scored the most points? I want the full name of each driver."
   ]
  },
  {
   "cell_type": "markdown",
   "metadata": {},
   "source": [
    "Step1: Merge `results` with `races`, `drivers`, and `constructors` to get full context per result"
   ]
  },
  {
   "cell_type": "code",
   "execution_count": null,
   "metadata": {},
   "outputs": [],
   "source": [
    "merged = (\n",
    "    results\n",
    "    .merge(races, left_on='race_id', right_on='race_id', how='left')\n",
    "    .merge(drivers, left_on='driver_id', right_on='driver_id', how='left')\n",
    "    .merge(constructors.rename({\"name\": \"constructor\"}, axis=1), left_on='constructor_id', right_on='constructor_id', how='left')\n",
    ")"
   ]
  },
  {
   "cell_type": "markdown",
   "metadata": {},
   "source": [
    "Step2: Create full driver name as a new column"
   ]
  },
  {
   "cell_type": "code",
   "execution_count": null,
   "metadata": {},
   "outputs": [],
   "source": [
    "merged['driver'] = merged['forename'] + ' ' + merged['surname']"
   ]
  },
  {
   "cell_type": "markdown",
   "metadata": {},
   "source": [
    "Step 3: Aggregate total points per year, driver, and constructor"
   ]
  },
  {
   "cell_type": "code",
   "execution_count": null,
   "metadata": {},
   "outputs": [],
   "source": [
    "grouped_driver = (\n",
    "    merged.groupby(['year', 'driver', 'constructor'], as_index=False)['points']\n",
    "    .sum()\n",
    "    # .rename(columns={'name': 'constructor'})\n",
    ")"
   ]
  },
  {
   "cell_type": "markdown",
   "metadata": {},
   "source": [
    "Step 4: Aggregate total points per year and constructor (driver = None)"
   ]
  },
  {
   "cell_type": "code",
   "execution_count": null,
   "metadata": {},
   "outputs": [],
   "source": [
    "grouped_constructor = (\n",
    "    merged.groupby(['year', 'constructor'], as_index=False)['points']\n",
    "    .sum()\n",
    ")\n",
    "grouped_constructor['driver'] = None"
   ]
  },
  {
   "cell_type": "markdown",
   "metadata": {},
   "source": [
    "Step 5: Concatenate both aggregations into one table simulating the `UNION`"
   ]
  },
  {
   "cell_type": "code",
   "execution_count": null,
   "metadata": {},
   "outputs": [],
   "source": [
    "year_points = pd.concat([grouped_driver, grouped_constructor], ignore_index=True)"
   ]
  },
  {
   "cell_type": "markdown",
   "metadata": {},
   "source": [
    "Step 6: Compute max points per year for drivers and constructors separately"
   ]
  },
  {
   "cell_type": "code",
   "execution_count": null,
   "metadata": {},
   "outputs": [],
   "source": [
    "max_points = year_points.groupby('year').agg(\n",
    "    max_driver_points=('points', lambda x: x[year_points['driver'].notnull()].max()),\n",
    "    max_constructor_points=('points', lambda x: x[year_points['constructor'].notnull()].max())\n",
    ").reset_index()"
   ]
  },
  {
   "cell_type": "markdown",
   "metadata": {},
   "source": [
    "Step 7: Join back with year_points to find drivers with max_driver_points"
   ]
  },
  {
   "cell_type": "code",
   "execution_count": null,
   "metadata": {},
   "outputs": [],
   "source": [
    "drivers_year_points = year_points[year_points['driver'].notnull()]\n",
    "max_driver = max_points.merge(\n",
    "    drivers_year_points,\n",
    "    left_on=['year', 'max_driver_points'],\n",
    "    right_on=['year', 'points'],\n",
    "    how='left'\n",
    ")"
   ]
  },
  {
   "cell_type": "markdown",
   "metadata": {},
   "source": [
    "Step 8: Join back with year_points to find constructors with max_constructor_points"
   ]
  },
  {
   "cell_type": "code",
   "execution_count": null,
   "metadata": {},
   "outputs": [],
   "source": [
    "constructors_year_points = year_points[year_points['constructor'].notnull()]\n",
    "max_full = max_driver.merge(\n",
    "    constructors_year_points,\n",
    "    left_on=['year', 'max_constructor_points'],\n",
    "    right_on=['year', 'points'],\n",
    "    how='left',\n",
    "    suffixes=('_driver', '_constructor')\n",
    ")"
   ]
  },
  {
   "cell_type": "markdown",
   "metadata": {},
   "source": [
    "Step 9: Select final output columns and sort by year"
   ]
  },
  {
   "cell_type": "code",
   "execution_count": null,
   "metadata": {},
   "outputs": [],
   "source": [
    "final_result = max_full[['year', 'driver_driver', 'constructor_constructor']].sort_values(by='year').reset_index(drop=True)\n",
    "final_result"
   ]
  }
 ],
 "metadata": {
  "kernelspec": {
   "display_name": "kaggle_env",
   "language": "python",
   "name": "python3"
  },
  "language_info": {
   "codemirror_mode": {
    "name": "ipython",
    "version": 3
   },
   "file_extension": ".py",
   "mimetype": "text/x-python",
   "name": "python",
   "nbconvert_exporter": "python",
   "pygments_lexer": "ipython3",
   "version": "3.13.1"
  }
 },
 "nbformat": 4,
 "nbformat_minor": 2
}
