{
 "cells": [
  {
   "cell_type": "code",
   "execution_count": null,
   "id": "eeb4c99b",
   "metadata": {},
   "outputs": [],
   "source": [
    "import os\n",
    "import pandas as pd\n",
    "import re\n",
    "import math\n",
    "import copy\n",
    "import numpy as np\n",
    "import sys\n",
    "# Add the root directory /workspaces/llm_etl to sys.path\n",
    "sys.path.append(os.path.abspath(os.path.join('..', '..')))\n",
    "# Now import your module\n",
    "from spider2_utils import load_csv_database"
   ]
  },
  {
   "cell_type": "markdown",
   "id": "cf405ae8",
   "metadata": {},
   "source": [
    "-setup-"
   ]
  },
  {
   "cell_type": "code",
   "execution_count": null,
   "id": "e704b435",
   "metadata": {},
   "outputs": [],
   "source": [
    "import pandas as pd\n",
    "_database = load_csv_database(\"Db-IMDB\", rows_limit=-1)\n",
    "\n",
    "Person = _database[\"Person\"]\n",
    "M_Cast = _database[\"M_Cast\"]\n",
    "M_Director = _database[\"M_Director\"]"
   ]
  },
  {
   "cell_type": "markdown",
   "id": "5ef5833d",
   "metadata": {},
   "source": [
    "### Question\n",
    "I need you to look into the actor collaborations and tell me how many actors have made more films with Yash Chopra than with any other director. This will help us understand his influence on the industry better."
   ]
  },
  {
   "cell_type": "markdown",
   "id": "6afb5b9d",
   "metadata": {},
   "source": [
    "### User Intent 1: Get the PID of 'Yash Chopra'"
   ]
  },
  {
   "cell_type": "code",
   "execution_count": null,
   "id": "33f8ab13",
   "metadata": {},
   "outputs": [],
   "source": [
    "\n",
    "yash_chopra_pid_df = Person[Person['Name'].str.strip() == 'Yash Chopra'][['PID']].copy()\n",
    "yash_chopra_pid_df['PID'] = yash_chopra_pid_df['PID'].str.strip()\n"
   ]
  },
  {
   "cell_type": "markdown",
   "id": "70f69e49",
   "metadata": {},
   "source": [
    "### User Intent 2: Count number of movies by each actor-director pair"
   ]
  },
  {
   "cell_type": "code",
   "execution_count": null,
   "id": "8bc2531b",
   "metadata": {},
   "outputs": [],
   "source": [
    "M_Cast['MID'] = M_Cast['MID'].str.strip()\n",
    "M_Cast['PID'] = M_Cast['PID'].str.strip()\n",
    "M_Director['MID'] = M_Director['MID'].str.strip()\n",
    "M_Director['PID'] = M_Director['PID'].str.strip()\n",
    "\n",
    "merged_cast_director = pd.merge(M_Cast, M_Director, on='MID', suffixes=('_actor', '_director'))\n",
    "num_of_mov_by_actor_director = (\n",
    "    merged_cast_director.groupby(['PID_actor', 'PID_director'])['MID']\n",
    "    .nunique()\n",
    "    .reset_index(name='NUM_OF_MOV')\n",
    "    .rename(columns={'PID_actor': 'ACTOR_PID', 'PID_director': 'DIRECTOR_PID'})\n",
    ")\n"
   ]
  },
  {
   "cell_type": "markdown",
   "id": "398c82fd",
   "metadata": {},
   "source": [
    "### User Intent 3: Filter movies directed by Yash Chopra"
   ]
  },
  {
   "cell_type": "code",
   "execution_count": null,
   "id": "2464f8a5",
   "metadata": {},
   "outputs": [],
   "source": [
    "num_of_movies_by_yc = pd.merge(\n",
    "    num_of_mov_by_actor_director,\n",
    "    yash_chopra_pid_df,\n",
    "    left_on='DIRECTOR_PID',\n",
    "    right_on='PID'\n",
    ")[['ACTOR_PID', 'DIRECTOR_PID', 'NUM_OF_MOV']].rename(columns={'NUM_OF_MOV': 'NUM_OF_MOV_BY_YC'})\n"
   ]
  },
  {
   "cell_type": "markdown",
   "id": "b064449b",
   "metadata": {},
   "source": [
    "### User Intent 4: Get max number of movies each actor did with other directors (excluding Yash Chopra)"
   ]
  },
  {
   "cell_type": "code",
   "execution_count": null,
   "id": "70fc4a30",
   "metadata": {},
   "outputs": [],
   "source": [
    "not_yash_chopra_movies = num_of_mov_by_actor_director[\n",
    "    ~num_of_mov_by_actor_director['DIRECTOR_PID'].isin(yash_chopra_pid_df['PID'])\n",
    "]\n",
    "max_movies_by_other_directors = (\n",
    "    not_yash_chopra_movies.groupby('ACTOR_PID')['NUM_OF_MOV']\n",
    "    .max()\n",
    "    .reset_index(name='MAX_NUM_OF_MOV')\n",
    ")\n"
   ]
  },
  {
   "cell_type": "markdown",
   "id": "f56d9f02",
   "metadata": {},
   "source": [
    "### User Intent 5: Compare movies with Yash Chopra vs other directors"
   ]
  },
  {
   "cell_type": "code",
   "execution_count": null,
   "id": "bf1dfb2b",
   "metadata": {},
   "outputs": [],
   "source": [
    "actors_mov_comparison = pd.merge(\n",
    "    num_of_movies_by_yc,\n",
    "    max_movies_by_other_directors,\n",
    "    on='ACTOR_PID',\n",
    "    how='left'\n",
    ")\n",
    "\n",
    "actors_mov_comparison['MORE_MOV_BY_YC'] = np.where(\n",
    "    actors_mov_comparison['NUM_OF_MOV_BY_YC'] > actors_mov_comparison['MAX_NUM_OF_MOV'].fillna(0),\n",
    "    'Y', 'N'\n",
    ")\n"
   ]
  },
  {
   "cell_type": "markdown",
   "id": "01cc9f09",
   "metadata": {},
   "source": [
    "### User Intent 6: Count distinct actors who acted in more movies with Yash Chopra than with any other director"
   ]
  },
  {
   "cell_type": "code",
   "execution_count": null,
   "id": "52fd0ed7",
   "metadata": {},
   "outputs": [],
   "source": [
    "actor_pids_more_with_yc = actors_mov_comparison[\n",
    "    actors_mov_comparison['MORE_MOV_BY_YC'] == 'Y'\n",
    "]['ACTOR_PID'].unique()\n",
    "\n",
    "num_actors = Person[Person['PID'].str.strip().isin(actor_pids_more_with_yc)]['PID'].nunique()\n",
    "print(\"Number of actor:\", num_actors)"
   ]
  }
 ],
 "metadata": {
  "kernelspec": {
   "display_name": "kaggle_env",
   "language": "python",
   "name": "python3"
  },
  "language_info": {
   "codemirror_mode": {
    "name": "ipython",
    "version": 3
   },
   "file_extension": ".py",
   "mimetype": "text/x-python",
   "name": "python",
   "nbconvert_exporter": "python",
   "pygments_lexer": "ipython3",
   "version": "3.13.1"
  }
 },
 "nbformat": 4,
 "nbformat_minor": 5
}
