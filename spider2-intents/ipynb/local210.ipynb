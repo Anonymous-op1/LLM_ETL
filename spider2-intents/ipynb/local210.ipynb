{
 "cells": [
  {
   "cell_type": "code",
   "execution_count": null,
   "id": "99286f91",
   "metadata": {},
   "outputs": [],
   "source": [
    "import sys\n",
    "import os\n",
    "sys.path.append(os.path.abspath(os.path.join(os.getcwd(), \"..\", \"..\")))\n",
    "from spider2_utils import load_csv_database\n"
   ]
  },
  {
   "cell_type": "markdown",
   "id": "efdaa602",
   "metadata": {},
   "source": [
    "-setup-"
   ]
  },
  {
   "cell_type": "code",
   "execution_count": null,
   "id": "01f656f6",
   "metadata": {},
   "outputs": [],
   "source": [
    "import pandas as pd\n",
    "\n",
    "_database = load_csv_database(\"delivery_center\", rows_limit=-1)\n",
    "\n",
    "orders = _database[\"orders\"]\n",
    "stores = _database[\"stores\"]\n",
    "hubs = _database[\"hubs\"]"
   ]
  },
  {
   "cell_type": "markdown",
   "id": "2e414e75",
   "metadata": {},
   "source": [
    "Step 1: # Merge orders → stores → hubs"
   ]
  },
  {
   "cell_type": "code",
   "execution_count": null,
   "id": "fb0389aa",
   "metadata": {},
   "outputs": [],
   "source": [
    "orders_merged = (\n",
    "    orders\n",
    "    .merge(stores[['store_id', 'hub_id']], on='store_id', how='left')\n",
    "    .merge(hubs[['hub_id', 'hub_name']], on='hub_id', how='left')\n",
    ")"
   ]
  },
  {
   "cell_type": "markdown",
   "id": "385961f2",
   "metadata": {},
   "source": [
    "Step 2: Filter for 'FINISHED' orders"
   ]
  },
  {
   "cell_type": "code",
   "execution_count": null,
   "id": "2ee02957",
   "metadata": {},
   "outputs": [],
   "source": [
    "finished_orders = orders_merged[orders_merged['order_status'] == 'FINISHED']"
   ]
  },
  {
   "cell_type": "markdown",
   "id": "e2abc995",
   "metadata": {},
   "source": [
    "Step 3: Get 'February' orders "
   ]
  },
  {
   "cell_type": "code",
   "execution_count": null,
   "id": "79403f2e",
   "metadata": {},
   "outputs": [],
   "source": [
    "february_orders = (\n",
    "    finished_orders[finished_orders['order_created_month'] == 2]\n",
    "    .groupby('hub_name', as_index=False)\n",
    "    .agg(orders_february=('order_id', 'count'))\n",
    ")"
   ]
  },
  {
   "cell_type": "markdown",
   "id": "c0288db6",
   "metadata": {},
   "source": [
    "Step 4: Get 'March' orders"
   ]
  },
  {
   "cell_type": "code",
   "execution_count": null,
   "id": "9e201246",
   "metadata": {},
   "outputs": [],
   "source": [
    "march_orders = (\n",
    "    finished_orders[finished_orders['order_created_month'] == 3]\n",
    "    .groupby('hub_name', as_index=False)\n",
    "    .agg(orders_march=('order_id', 'count'))\n",
    ")"
   ]
  },
  {
   "cell_type": "markdown",
   "id": "966aa70c",
   "metadata": {},
   "source": [
    "Step 5: Merge february orders with march orders on the hub_name"
   ]
  },
  {
   "cell_type": "code",
   "execution_count": null,
   "id": "98749b2a",
   "metadata": {},
   "outputs": [],
   "source": [
    "\n",
    "merged = february_orders.merge(march_orders, on='hub_name', how='left')"
   ]
  },
  {
   "cell_type": "markdown",
   "id": "b38b1b04",
   "metadata": {},
   "source": [
    "Step 6: Drop rows with missing March data (only keep hubs that had orders in March too)"
   ]
  },
  {
   "cell_type": "code",
   "execution_count": null,
   "id": "205b934c",
   "metadata": {},
   "outputs": [],
   "source": [
    "filtered = merged[\n",
    "    (merged['orders_february'] > 0) &\n",
    "    (merged['orders_march'] > 0) &\n",
    "    (((merged['orders_march'] - merged['orders_february']) / merged['orders_february']) > 0.2)\n",
    "]"
   ]
  },
  {
   "cell_type": "markdown",
   "id": "9aa66f30",
   "metadata": {},
   "source": [
    "Step 7: Get the final result"
   ]
  },
  {
   "cell_type": "code",
   "execution_count": null,
   "id": "6f35858e",
   "metadata": {},
   "outputs": [],
   "source": [
    "result = filtered[['hub_name']]"
   ]
  },
  {
   "cell_type": "code",
   "execution_count": null,
   "id": "a3789acf",
   "metadata": {},
   "outputs": [],
   "source": [
    "result"
   ]
  }
 ],
 "metadata": {
  "kernelspec": {
   "display_name": "kaggle_env",
   "language": "python",
   "name": "python3"
  },
  "language_info": {
   "codemirror_mode": {
    "name": "ipython",
    "version": 3
   },
   "file_extension": ".py",
   "mimetype": "text/x-python",
   "name": "python",
   "nbconvert_exporter": "python",
   "pygments_lexer": "ipython3",
   "version": "3.13.1"
  }
 },
 "nbformat": 4,
 "nbformat_minor": 5
}
