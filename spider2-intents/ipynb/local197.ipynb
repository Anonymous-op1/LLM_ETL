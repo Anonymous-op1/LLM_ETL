{
 "cells": [
  {
   "cell_type": "code",
   "execution_count": null,
   "id": "b4b181cc",
   "metadata": {},
   "outputs": [],
   "source": [
    "#Code to get the load_csv_database function.\n",
    "#We pass this function as context so there's no need to include it when we parse the notebook\n",
    "import sys\n",
    "import os\n",
    "sys.path.append(os.path.abspath(os.path.join(os.getcwd(), \"..\", \"..\")))\n",
    "from spider2_utils import load_csv_database\n"
   ]
  },
  {
   "cell_type": "markdown",
   "id": "56478188",
   "metadata": {},
   "source": [
    "-setup-"
   ]
  },
  {
   "cell_type": "code",
   "execution_count": null,
   "id": "311d3e6d",
   "metadata": {},
   "outputs": [],
   "source": [
    "import pandas as pd\n",
    "_database = load_csv_database(\"sqlite-sakila\", rows_limit=-1)\n",
    "payment = _database[\"payment\"]"
   ]
  },
  {
   "cell_type": "markdown",
   "id": "9881fbab",
   "metadata": {},
   "source": [
    "### Question\n",
    "\n",
    "Among our top 10 paying customers, can you identify the largest change in payment amounts from one month to the immediately following month? Specifically, please determine for which customer and during which month this maximum month-over-month difference occurred, and provide the difference rounded to two decimal places."
   ]
  },
  {
   "cell_type": "markdown",
   "id": "cf15932e",
   "metadata": {},
   "source": [
    "### Step 1: Extract month from the payment date\n",
    "**User intent:** Add a column for the month of the payment as a two-digit string"
   ]
  },
  {
   "cell_type": "code",
   "execution_count": null,
   "id": "aaacf4c9",
   "metadata": {},
   "outputs": [],
   "source": [
    "payment['payment_date'] = pd.to_datetime(payment['payment_date'])\n",
    "payment['pay_mon'] = payment['payment_date'].dt.strftime('%m')"
   ]
  },
  {
   "cell_type": "markdown",
   "id": "4e6eef5a",
   "metadata": {},
   "source": [
    "### Step 2: Aggregate monthly payment count and amount per customer\n",
    "**User intent:** Group by customer and month to calculate payment count and sum"
   ]
  },
  {
   "cell_type": "code",
   "execution_count": null,
   "id": "3b9e0c41",
   "metadata": {},
   "outputs": [],
   "source": [
    "result_table = payment.groupby(['pay_mon', 'customer_id']).agg(\n",
    "    pay_countpermon=('amount', 'count'),\n",
    "    pay_amount=('amount', 'sum')\n",
    ").reset_index()"
   ]
  },
  {
   "cell_type": "markdown",
   "id": "d97ad09e",
   "metadata": {},
   "source": [
    "### Step 3: Calculate total payments per customer\n",
    "**User intent:** Sum all monthly payments for each customer"
   ]
  },
  {
   "cell_type": "code",
   "execution_count": null,
   "id": "f1134295",
   "metadata": {},
   "outputs": [],
   "source": [
    "total_payments = result_table.groupby('customer_id')['pay_amount'].sum().reset_index(name='total_payments')"
   ]
  },
  {
   "cell_type": "markdown",
   "id": "126bfaf7",
   "metadata": {},
   "source": [
    "### Step 4: Identify top 10 customers by total payments\n",
    "**User intent:** Select top 10 customers with highest total payment"
   ]
  },
  {
   "cell_type": "code",
   "execution_count": null,
   "id": "561afe1e",
   "metadata": {},
   "outputs": [],
   "source": [
    "top10_customer = total_payments.sort_values('total_payments', ascending=False).head(10)"
   ]
  },
  {
   "cell_type": "markdown",
   "id": "2104727c",
   "metadata": {},
   "source": [
    "### Step 5: Filter result_table for only top 10 customers\n",
    "**User intent:** Keep only rows belonging to the top 10 customers"
   ]
  },
  {
   "cell_type": "code",
   "execution_count": null,
   "id": "6850a86a",
   "metadata": {},
   "outputs": [],
   "source": [
    "filtered_result = result_table[result_table['customer_id'].isin(top10_customer['customer_id'])]"
   ]
  },
  {
   "cell_type": "markdown",
   "id": "4679f6c5",
   "metadata": {},
   "source": [
    "### Step 6: Sort filtered results for correct LAG behavior\n",
    "**User intent:** Sort by customer and month to prepare for lag calculation"
   ]
  },
  {
   "cell_type": "code",
   "execution_count": null,
   "id": "c8dd0c22",
   "metadata": {},
   "outputs": [],
   "source": [
    "filtered_result = filtered_result.sort_values(['customer_id', 'pay_mon'])"
   ]
  },
  {
   "cell_type": "markdown",
   "id": "52c8e343",
   "metadata": {},
   "source": [
    "### Step 7: Calculate difference in pay_amount from previous month\n",
    "**User intent:** Compute absolute month-over-month difference in payment amount"
   ]
  },
  {
   "cell_type": "code",
   "execution_count": null,
   "id": "aca7449c",
   "metadata": {},
   "outputs": [],
   "source": [
    "import numpy as np\n",
    "\n",
    "filtered_result['diff'] = filtered_result.groupby('customer_id')['pay_amount'].shift().rsub(filtered_result['pay_amount']).abs()"
   ]
  },
  {
   "cell_type": "markdown",
   "id": "67bef0c0",
   "metadata": {},
   "source": [
    "### Step 8: Keep month and difference values only\n",
    "**User intent:** Rename columns to match final output format"
   ]
  },
  {
   "cell_type": "code",
   "execution_count": null,
   "id": "5a8f975e",
   "metadata": {},
   "outputs": [],
   "source": [
    "difference_per_mon = filtered_result[['pay_mon', 'pay_amount', 'pay_countpermon', 'diff']].copy()\n",
    "difference_per_mon.rename(columns={'pay_mon': 'month'}, inplace=True)"
   ]
  },
  {
   "cell_type": "markdown",
   "id": "9222a0d6",
   "metadata": {},
   "source": [
    "### Step 9: Find the maximum difference per month\n",
    "**User intent:** Compute max difference per month"
   ]
  },
  {
   "cell_type": "code",
   "execution_count": null,
   "id": "2aee7ec3",
   "metadata": {},
   "outputs": [],
   "source": [
    "max_diff_per_month = difference_per_mon.groupby('month')['diff'].max().reset_index(name='max_diff')"
   ]
  },
  {
   "cell_type": "markdown",
   "id": "434f9a5f",
   "metadata": {},
   "source": [
    "### Step 10: Join max diff values back to original table\n",
    "**User intent:** Add max_diff to each row to compare with its diff"
   ]
  },
  {
   "cell_type": "code",
   "execution_count": null,
   "id": "067d7afd",
   "metadata": {},
   "outputs": [],
   "source": [
    "merged = difference_per_mon.merge(max_diff_per_month, on='month')"
   ]
  },
  {
   "cell_type": "markdown",
   "id": "d29b0e6a",
   "metadata": {},
   "source": [
    "### Step 11: Filter rows where diff equals max_diff\n",
    "**User intent:** Identify customer-month pairs with max monthly difference"
   ]
  },
  {
   "cell_type": "code",
   "execution_count": null,
   "id": "c4254780",
   "metadata": {},
   "outputs": [],
   "source": [
    "max_diff_rows = merged[merged['diff'] == merged['max_diff']]"
   ]
  },
  {
   "cell_type": "markdown",
   "id": "7f0a1b61",
   "metadata": {},
   "source": [
    "### Step 12: Select the row with the highest max_diff across all months\n",
    "**User intent:** Get the row with the largest difference overall"
   ]
  },
  {
   "cell_type": "code",
   "execution_count": null,
   "id": "ad97f1a1",
   "metadata": {},
   "outputs": [],
   "source": [
    "final_result = max_diff_rows.sort_values('max_diff', ascending=False).head(1)[['month', 'max_diff']]\n",
    "final_result['max_diff'] = final_result['max_diff'].round(2)"
   ]
  },
  {
   "cell_type": "markdown",
   "id": "bbccc88e",
   "metadata": {},
   "source": [
    "### Step 13: Display the final result\n",
    "**User intent:** Show the month with the highest payment difference and its value"
   ]
  },
  {
   "cell_type": "code",
   "execution_count": null,
   "id": "659d221e",
   "metadata": {},
   "outputs": [],
   "source": [
    "final_result"
   ]
  }
 ],
 "metadata": {
  "language_info": {
   "name": "python"
  }
 },
 "nbformat": 4,
 "nbformat_minor": 5
}
