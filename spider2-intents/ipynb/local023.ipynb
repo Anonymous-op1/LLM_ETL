{
 "cells": [
  {
   "cell_type": "code",
   "execution_count": null,
   "id": "0030c403",
   "metadata": {},
   "outputs": [],
   "source": [
    "#Code to get the load_csv_database function.\n",
    "#We pass this function as context so there's no need to include it when we parse the notebook\n",
    "import sys\n",
    "import os\n",
    "sys.path.append(os.path.abspath(os.path.join(os.getcwd(), \"..\", \"..\")))\n",
    "from spider2_utils import load_csv_database\n"
   ]
  },
  {
   "cell_type": "markdown",
   "id": "7b370469",
   "metadata": {},
   "source": [
    "-setup-"
   ]
  },
  {
   "cell_type": "code",
   "execution_count": null,
   "id": "fe66a3a9",
   "metadata": {},
   "outputs": [],
   "source": [
    "import pandas as pd\n",
    "_database = load_csv_database(\"IPL\", rows_limit=-1)\n",
    "\n",
    "# Create a dataframe for each key in _database\n",
    "ball_by_ball = _database[\"ball_by_ball\"]\n",
    "batsman_scored = _database[\"batsman_scored\"]\n",
    "match = _database[\"match\"]\n",
    "player = _database[\"player\"]\n",
    "player_match = _database[\"player_match\"]"
   ]
  },
  {
   "cell_type": "markdown",
   "id": "71643a20",
   "metadata": {},
   "source": [
    "# Question\n",
    "Please help me find the names of top 5 players with the highest average runs per match in season 5, along with their batting averages."
   ]
  },
  {
   "cell_type": "markdown",
   "id": "738fdee3",
   "metadata": {},
   "source": [
    "# Step 1: Filter ball_by_ball for Season 5 Matches\n",
    "Subset the ball_by_ball table to only include records from matches in season 5."
   ]
  },
  {
   "cell_type": "code",
   "execution_count": null,
   "id": "d8d1d329",
   "metadata": {},
   "outputs": [],
   "source": [
    "season5_match_ids = match[match['season_id'] == 5]['match_id']\n",
    "ball_by_ball_season5 = ball_by_ball[ball_by_ball['match_id'].isin(season5_match_ids)]"
   ]
  },
  {
   "cell_type": "markdown",
   "id": "4bf95666",
   "metadata": {},
   "source": [
    "# Step 2: Join ball_by_ball_season5 with batsman_scored\n",
    "Merge the filtered ball_by_ball with batsman_scored on match_id, over_id, ball_id, and innings_no."
   ]
  },
  {
   "cell_type": "code",
   "execution_count": null,
   "id": "9104b461",
   "metadata": {},
   "outputs": [],
   "source": [
    "runs_scored = ball_by_ball_season5.merge(batsman_scored, on=['match_id', 'over_id', 'ball_id', 'innings_no'])"
   ]
  },
  {
   "cell_type": "markdown",
   "id": "4198249d",
   "metadata": {},
   "source": [
    "# Step 3: Select Relevant Columns\n",
    "Keep only the striker (as player_id), match_id, and runs_scored columns."
   ]
  },
  {
   "cell_type": "code",
   "execution_count": null,
   "id": "ccb24ab5",
   "metadata": {},
   "outputs": [],
   "source": [
    "runs_scored = runs_scored[['striker', 'match_id', 'runs_scored']].rename(columns={'striker': 'player_id', 'runs_scored': 'runs'})"
   ]
  },
  {
   "cell_type": "markdown",
   "id": "29beda20",
   "metadata": {},
   "source": [
    "# Step 4: Group by Player and Match to Calculate Total Runs\n",
    "Aggregate the total runs scored by each player in each match."
   ]
  },
  {
   "cell_type": "code",
   "execution_count": null,
   "id": "bd2a3fa4",
   "metadata": {},
   "outputs": [],
   "source": [
    "total_runs = runs_scored.groupby(['player_id', 'match_id']).agg(total_runs=('runs', 'sum')).reset_index()"
   ]
  },
  {
   "cell_type": "markdown",
   "id": "8a14fa37",
   "metadata": {},
   "source": [
    "# Step 5: Group by Player to Calculate Batting Averages\n",
    "For each player, sum total runs and count matches, then calculate batting average."
   ]
  },
  {
   "cell_type": "code",
   "execution_count": null,
   "id": "02dcbfa1",
   "metadata": {},
   "outputs": [],
   "source": [
    "batting_averages = total_runs.groupby('player_id').agg(\n",
    "    runs=('total_runs', 'sum'),\n",
    "    num_matches=('match_id', 'count')\n",
    ").reset_index()\n",
    "batting_averages['batting_avg'] = (batting_averages['runs'] / batting_averages['num_matches']).round(3)"
   ]
  },
  {
   "cell_type": "markdown",
   "id": "1ec52f10",
   "metadata": {},
   "source": [
    "# Step 6: Select Top 5 Players by Batting Average\n",
    "Sort by batting average descending and take the top 5 players."
   ]
  },
  {
   "cell_type": "code",
   "execution_count": null,
   "id": "53fefbd8",
   "metadata": {},
   "outputs": [],
   "source": [
    "top5 = batting_averages.sort_values('batting_avg', ascending=False).head(5)"
   ]
  },
  {
   "cell_type": "markdown",
   "id": "26ffc3bd",
   "metadata": {},
   "source": [
    "# Step 7: Join with Player Table to Get Player Names\n",
    "Merge the top 5 batting averages with the player table to get player names."
   ]
  },
  {
   "cell_type": "code",
   "execution_count": null,
   "id": "79df1a42",
   "metadata": {},
   "outputs": [],
   "source": [
    "top5_with_names = top5.merge(player, left_on='player_id', right_on='player_id')[['player_name', 'batting_avg']]\n",
    "top5_with_names = top5_with_names.sort_values('batting_avg', ascending=False).reset_index(drop=True)\n",
    "top5_with_names"
   ]
  },
  {
   "cell_type": "code",
   "execution_count": null,
   "id": "55c5f0ba",
   "metadata": {},
   "outputs": [],
   "source": [
    "# player_name\tbatting_avg\n",
    "# CH Gayle\t52.357\n",
    "# KP Pietersen\t38.125\n",
    "# S Dhawan\t37.933\n",
    "# CL White\t36.846\n",
    "# SR Watson\t36.429"
   ]
  }
 ],
 "metadata": {
  "kernelspec": {
   "display_name": "kaggle_env",
   "language": "python",
   "name": "python3"
  },
  "language_info": {
   "codemirror_mode": {
    "name": "ipython",
    "version": 3
   },
   "file_extension": ".py",
   "mimetype": "text/x-python",
   "name": "python",
   "nbconvert_exporter": "python",
   "pygments_lexer": "ipython3",
   "version": "3.13.1"
  }
 },
 "nbformat": 4,
 "nbformat_minor": 5
}
