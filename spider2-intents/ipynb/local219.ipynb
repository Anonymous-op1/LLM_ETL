{
 "cells": [
  {
   "cell_type": "code",
   "execution_count": null,
   "id": "c65d2cc7",
   "metadata": {},
   "outputs": [],
   "source": [
    "#Code to get the load_csv_database function.\n",
    "#We pass this function as context so there's no need to include it when we parse the notebook\n",
    "import sys\n",
    "import os\n",
    "sys.path.append(os.path.abspath(os.path.join(os.getcwd(), \"..\", \"..\")))\n",
    "from spider2_utils import load_csv_database"
   ]
  },
  {
   "cell_type": "markdown",
   "id": "d2955a81",
   "metadata": {},
   "source": [
    "-setup-"
   ]
  },
  {
   "cell_type": "code",
   "execution_count": null,
   "id": "99f8352f",
   "metadata": {},
   "outputs": [],
   "source": [
    "import pandas as pd\n",
    "\n",
    "_database = load_csv_database(\"EU_soccer\", rows_limit=-1)\n",
    "matches = _database[\"Match\"]\n",
    "leagues = _database[\"League\"]\n",
    "teams = _database[\"Team\"]\n",
    "players = _database[\"Player\"]"
   ]
  },
  {
   "cell_type": "markdown",
   "id": "a17d0131",
   "metadata": {},
   "source": [
    "## Question\n",
    "\n",
    "In each league, considering all seasons, which single team has the fewest total match wins based on comparing home and away goals, including teams with zero wins, ensuring that if multiple teams tie for the fewest wins, only one team is returned for each league?"
   ]
  },
  {
   "cell_type": "markdown",
   "id": "fce27811",
   "metadata": {},
   "source": [
    "Step 1: User Intent: Build the base match_view by joining matches, leagues, and team names"
   ]
  },
  {
   "cell_type": "code",
   "execution_count": null,
   "id": "0f687bf6",
   "metadata": {},
   "outputs": [],
   "source": [
    "# Merge league names\n",
    "mv = matches.merge(leagues[['id', 'name']], left_on='league_id', right_on='id', suffixes=('', '_league'))\n",
    "mv = mv.rename(columns={'name': 'league'}).drop(columns=['id_league'])\n",
    "\n",
    "# Merge home and away team names\n",
    "mv = mv.merge(teams[['team_api_id', 'team_long_name']], left_on='home_team_api_id', right_on='team_api_id')\\\n",
    "    .rename(columns={'team_long_name': 'home_team'})\\\n",
    "    .drop(columns=['team_api_id'])\n",
    "\n",
    "mv = mv.merge(teams[['team_api_id', 'team_long_name']], left_on='away_team_api_id', right_on='team_api_id')\\\n",
    "    .rename(columns={'team_long_name': 'away_team'})\\\n",
    "    .drop(columns=['team_api_id'])"
   ]
  },
  {
   "cell_type": "markdown",
   "id": "7aba26e9",
   "metadata": {},
   "source": [
    "Step 2: User Intent: Attach player names for all home and away positions"
   ]
  },
  {
   "cell_type": "code",
   "execution_count": null,
   "id": "265c3ebe",
   "metadata": {},
   "outputs": [],
   "source": [
    "# Define mapping of position columns to new names\n",
    "pos_cols = {f'home_player_{i}': f'home_player_{i}' for i in range(1, 12)}\n",
    "pos_cols.update({f'away_player_{i}': f'away_player_{i}' for i in range(1, 12)})\n",
    "\n",
    "# For each player column, merge with players to get name\n",
    "for col in pos_cols:\n",
    "    mv = mv.merge(players[['player_api_id', 'player_name']],\n",
    "                  left_on=col, right_on='player_api_id', how='left')\n",
    "    mv = mv.rename(columns={'player_name': col.replace('player_', '')})\n",
    "    mv = mv.drop(columns=['player_api_id'])"
   ]
  },
  {
   "cell_type": "markdown",
   "id": "0531907a",
   "metadata": {},
   "source": [
    "Step 3: User Intent: Create match_score by listing each team's result per match"
   ]
  },
  {
   "cell_type": "code",
   "execution_count": null,
   "id": "7fa0aa7e",
   "metadata": {},
   "outputs": [],
   "source": [
    "# Home result\n",
    "home = mv[['id', 'home_team', 'home_team_goal', 'away_team_goal']].copy()\n",
    "home['team'] = home['home_team']\n",
    "home['winning_match'] = (home['home_team_goal'] > home['away_team_goal']).astype(int)\n",
    "home = home[['id', 'team', 'winning_match']]\n",
    "\n",
    "# Away result\n",
    "away = mv[['id', 'away_team', 'away_team_goal', 'home_team_goal']].copy()\n",
    "away['team'] = away['away_team']\n",
    "away['winning_match'] = (away['away_team_goal'] > away['home_team_goal']).astype(int)\n",
    "away = away[['id', 'team', 'winning_match']]\n",
    "\n",
    "# Concatenate home and away\n",
    "match_score = pd.concat([home, away], ignore_index=True)"
   ]
  },
  {
   "cell_type": "markdown",
   "id": "61702425",
   "metadata": {},
   "source": [
    "Step 4: User Intent: Compute total wins per team and rank within each league"
   ]
  },
  {
   "cell_type": "code",
   "execution_count": null,
   "id": "b6877b54",
   "metadata": {},
   "outputs": [],
   "source": [
    "# Merge league info back into match_score\n",
    "ms = match_score.merge(mv[['id', 'league']], on='id')\n",
    "\n",
    "# Group and count wins\n",
    "win_counts = (\n",
    "    ms.groupby(['league', 'team'])['winning_match']\n",
    "    .sum()\n",
    "    .reset_index(name='wins')\n",
    ")\n",
    "\n",
    "# Rank teams by wins ascending (1 = least wins)\n",
    "win_counts['rank'] = (\n",
    "    win_counts.groupby('league')['wins']\n",
    "    .rank(method='first', ascending=True).astype(int)\n",
    ")"
   ]
  },
  {
   "cell_type": "markdown",
   "id": "5f0d1826",
   "metadata": {},
   "source": [
    "Step 5: User Intent: Select the team with the least wins in each league"
   ]
  },
  {
   "cell_type": "code",
   "execution_count": null,
   "id": "97c68886",
   "metadata": {},
   "outputs": [],
   "source": [
    "least_wins = (\n",
    "    win_counts[win_counts['rank'] == 1]\n",
    "    .sort_values('league')\n",
    "    [['league', 'team']]\n",
    ")\n",
    "least_wins"
   ]
  }
 ],
 "metadata": {
  "language_info": {
   "name": "python"
  }
 },
 "nbformat": 4,
 "nbformat_minor": 5
}
