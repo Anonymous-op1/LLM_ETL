{
 "cells": [
  {
   "cell_type": "code",
   "execution_count": null,
   "id": "850c6e8a",
   "metadata": {},
   "outputs": [],
   "source": [
    "import os\n",
    "import re\n",
    "import math\n",
    "import copy\n",
    "import numpy as np\n",
    "import sys\n",
    "# Add the root directory /workspaces/llm_etl to sys.path\n",
    "sys.path.append(os.path.abspath(os.path.join('..', '..')))\n",
    "# Now import your module\n",
    "from spider2_utils import load_csv_database"
   ]
  },
  {
   "cell_type": "markdown",
   "id": "a5ee9a98",
   "metadata": {},
   "source": [
    "-setup-"
   ]
  },
  {
   "cell_type": "code",
   "execution_count": null,
   "id": "75e1a666",
   "metadata": {},
   "outputs": [],
   "source": [
    "import pandas as pd\n",
    "_database = load_csv_database(\"Pagila\", rows_limit=-1)\n",
    "# Load specific database\n",
    "actor = _database[\"actor\"]\n",
    "film_actor = _database[\"film_actor\"]\n",
    "film = _database[\"film\"]\n",
    "film_category = _database[\"film_category\"]\n",
    "category = _database[\"category\"]\n",
    "language = _database[\"language\"]"
   ]
  },
  {
   "cell_type": "markdown",
   "id": "4015e9cb",
   "metadata": {},
   "source": [
    "### Question\n",
    "Could you help me determine which actor starred most frequently in English-language children's category films that were rated either G or PG, had a running time of 120 minutes or less, and were released between 2000 and 2010? Please provide the actor's full name."
   ]
  },
  {
   "cell_type": "markdown",
   "id": "f337aaf9",
   "metadata": {},
   "source": [
    "### User Intent 1: Drop 'last_update' columns and rename overlapping 'name' columns for clarity"
   ]
  },
  {
   "cell_type": "code",
   "execution_count": null,
   "id": "d2cec157",
   "metadata": {},
   "outputs": [],
   "source": [
    "actor.drop(columns=['last_update'], inplace=True)\n",
    "film_actor.drop(columns=['last_update'], inplace=True)\n",
    "film.drop(columns=['last_update'], inplace=True)\n",
    "film_category.drop(columns=['last_update'], inplace=True)\n",
    "category = category.drop(columns=['last_update']).rename(columns={'name': 'category_name'})\n",
    "language = language.drop(columns=['last_update']).rename(columns={'name': 'language_name'})"
   ]
  },
  {
   "cell_type": "markdown",
   "id": "5ccdd03f",
   "metadata": {},
   "source": [
    "### User Intent 2: Merge actor with film_actor to associate actors with films"
   ]
  },
  {
   "cell_type": "code",
   "execution_count": null,
   "id": "f4cf5141",
   "metadata": {},
   "outputs": [],
   "source": [
    "actor_film = pd.merge(actor, film_actor, on='actor_id')"
   ]
  },
  {
   "cell_type": "markdown",
   "id": "91481918",
   "metadata": {},
   "source": [
    "### User Intent 3: Merge with film to get film details"
   ]
  },
  {
   "cell_type": "code",
   "execution_count": null,
   "id": "602dd099",
   "metadata": {},
   "outputs": [],
   "source": [
    "actor_film_details = pd.merge(actor_film, film, on='film_id')"
   ]
  },
  {
   "cell_type": "markdown",
   "id": "44c5c654",
   "metadata": {},
   "source": [
    "### User Intent 4: Merge with film_category to get category_id"
   ]
  },
  {
   "cell_type": "code",
   "execution_count": null,
   "id": "81974caf",
   "metadata": {},
   "outputs": [],
   "source": [
    "actor_film_cat = pd.merge(actor_film_details, film_category, on='film_id')"
   ]
  },
  {
   "cell_type": "markdown",
   "id": "b902d76e",
   "metadata": {},
   "source": [
    "### User Intent 5: Merge with category to get category name"
   ]
  },
  {
   "cell_type": "code",
   "execution_count": null,
   "id": "b17313b8",
   "metadata": {},
   "outputs": [],
   "source": [
    "actor_film_cat_name = pd.merge(actor_film_cat, category, on='category_id')"
   ]
  },
  {
   "cell_type": "markdown",
   "id": "c90dc38c",
   "metadata": {},
   "source": [
    "### User Intent 6: Merge with language to get language name"
   ]
  },
  {
   "cell_type": "code",
   "execution_count": null,
   "id": "903fcb29",
   "metadata": {},
   "outputs": [],
   "source": [
    "actor_film_full = pd.merge(actor_film_cat_name, language, on='language_id')"
   ]
  },
  {
   "cell_type": "markdown",
   "id": "c44ea741",
   "metadata": {},
   "source": [
    "### User Intent 7: Filter rows based on given conditions"
   ]
  },
  {
   "cell_type": "code",
   "execution_count": null,
   "id": "7eaff6df",
   "metadata": {},
   "outputs": [],
   "source": [
    "filtered = actor_film_full[\n",
    "    (actor_film_full['category_name'] == 'Children') &\n",
    "    (actor_film_full['release_year'].between(2000, 2010)) &\n",
    "    (actor_film_full['rating'].isin(['G', 'PG'])) &\n",
    "    (actor_film_full['language_name'] == 'English') &\n",
    "    (actor_film_full['length'] <= 120)\n",
    "]"
   ]
  },
  {
   "cell_type": "markdown",
   "id": "2462d454",
   "metadata": {},
   "source": [
    "### User Intent 8: Create full_name column for actors"
   ]
  },
  {
   "cell_type": "code",
   "execution_count": null,
   "id": "223d9d9a",
   "metadata": {},
   "outputs": [],
   "source": [
    "filtered['full_name'] = filtered['first_name'] + ' ' + filtered['last_name']"
   ]
  },
  {
   "cell_type": "markdown",
   "id": "30305d25",
   "metadata": {},
   "source": [
    "### User Intent 9: Group by actor and count number of qualifying films"
   ]
  },
  {
   "cell_type": "code",
   "execution_count": null,
   "id": "45d87547",
   "metadata": {},
   "outputs": [],
   "source": [
    "actor_film_count = (\n",
    "    filtered.groupby(['actor_id', 'full_name'])\n",
    "    .agg(num_films=('film_id', 'count'))\n",
    "    .reset_index()\n",
    "    .sort_values(by='num_films', ascending=False)\n",
    ")"
   ]
  },
  {
   "cell_type": "markdown",
   "id": "22c72747",
   "metadata": {},
   "source": [
    "### User Intent 10: Get actor with most qualifying children films"
   ]
  },
  {
   "cell_type": "code",
   "execution_count": null,
   "id": "97e06129",
   "metadata": {},
   "outputs": [],
   "source": [
    "top_actor = actor_film_count.head(1)\n",
    "final_result = top_actor[['full_name']]\n",
    "print(final_result)"
   ]
  }
 ],
 "metadata": {
  "kernelspec": {
   "display_name": "kaggle_env",
   "language": "python",
   "name": "python3"
  },
  "language_info": {
   "codemirror_mode": {
    "name": "ipython",
    "version": 3
   },
   "file_extension": ".py",
   "mimetype": "text/x-python",
   "name": "python",
   "nbconvert_exporter": "python",
   "pygments_lexer": "ipython3",
   "version": "3.13.1"
  }
 },
 "nbformat": 4,
 "nbformat_minor": 5
}
