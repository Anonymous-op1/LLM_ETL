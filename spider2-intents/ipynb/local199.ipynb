{
 "cells": [
  {
   "cell_type": "code",
   "execution_count": null,
   "id": "342b38fa",
   "metadata": {},
   "outputs": [],
   "source": [
    "#Code to get the load_csv_database function.\n",
    "#We pass this function as context so there's no need to include it when we parse the notebook\n",
    "import sys\n",
    "import os\n",
    "sys.path.append(os.path.abspath(os.path.join(os.getcwd(), \"..\", \"..\")))\n",
    "from spider2_utils import load_csv_database\n"
   ]
  },
  {
   "cell_type": "markdown",
   "id": "9966ac6c",
   "metadata": {},
   "source": [
    "-setup-"
   ]
  },
  {
   "cell_type": "code",
   "execution_count": null,
   "id": "df9e25ef",
   "metadata": {},
   "outputs": [],
   "source": [
    "import pandas as pd\n",
    "_database = load_csv_database(\"sqlite-sakila\", rows_limit=-1)\n",
    "rental = _database[\"rental\"]\n",
    "staff = _database[\"staff\"]"
   ]
  },
  {
   "cell_type": "markdown",
   "id": "6b0b8c72",
   "metadata": {},
   "source": [
    "### Question:\n",
    "\n",
    "Can you identify the year and month with the highest rental orders created by the store's staff for each store? Please list the store ID, the year, the month, and the total rentals for those dates."
   ]
  },
  {
   "cell_type": "markdown",
   "id": "f960d998",
   "metadata": {},
   "source": [
    "### Step 1: Merge rental and staff tables on STAFF_ID\n",
    "**User intent:** Join RENTAL and STAFF tables using staff_id"
   ]
  },
  {
   "cell_type": "code",
   "execution_count": null,
   "id": "5a3fbffe",
   "metadata": {},
   "outputs": [],
   "source": [
    "rental_merged = rental.merge(staff, on='staff_id')"
   ]
  },
  {
   "cell_type": "markdown",
   "id": "51b132d8",
   "metadata": {},
   "source": [
    "### Step 2: Extract year and month from rental_date\n",
    "**User intent:** Add columns for year and rental month as strings"
   ]
  },
  {
   "cell_type": "code",
   "execution_count": null,
   "id": "24760a33",
   "metadata": {},
   "outputs": [],
   "source": [
    "rental_merged['rental_date'] = pd.to_datetime(rental_merged['rental_date'])\n",
    "rental_merged['year'] = rental_merged['rental_date'].dt.strftime('%Y')\n",
    "rental_merged['rental_month'] = rental_merged['rental_date'].dt.strftime('%m')"
   ]
  },
  {
   "cell_type": "markdown",
   "id": "4b1adef6",
   "metadata": {},
   "source": [
    "### Step 3: Count rentals per year, month, and store\n",
    "**User intent:** Group by year, month, and store_id and count rentals"
   ]
  },
  {
   "cell_type": "code",
   "execution_count": null,
   "id": "d278cf24",
   "metadata": {},
   "outputs": [],
   "source": [
    "result_table = rental_merged.groupby(['year', 'rental_month', 'store_id']).agg(\n",
    "    count=('rental_id', 'count')\n",
    ").reset_index()"
   ]
  },
  {
   "cell_type": "markdown",
   "id": "704e6f6b",
   "metadata": {},
   "source": [
    "### Step 4: Aggregate total rentals per store, year, and month\n",
    "**User intent:** Group by year, month, and store_id to get total rentals"
   ]
  },
  {
   "cell_type": "code",
   "execution_count": null,
   "id": "7a6d13d2",
   "metadata": {},
   "outputs": [],
   "source": [
    "monthly_sales = result_table.groupby(['year', 'rental_month', 'store_id'])['count'].sum().reset_index(name='total_rentals')"
   ]
  },
  {
   "cell_type": "markdown",
   "id": "d6a5da66",
   "metadata": {},
   "source": [
    "### Step 5: Calculate max rentals per store\n",
    "**User intent:** Get the maximum monthly rental count for each store"
   ]
  },
  {
   "cell_type": "code",
   "execution_count": null,
   "id": "90498649",
   "metadata": {},
   "outputs": [],
   "source": [
    "monthly_sales['max_rentals'] = monthly_sales.groupby('store_id')['total_rentals'].transform('max')"
   ]
  },
  {
   "cell_type": "markdown",
   "id": "130870ee",
   "metadata": {},
   "source": [
    "### Step 6: Filter months where total rentals equal max rentals\n",
    "**User intent:** Keep only rows where total_rentals equals max_rentals"
   ]
  },
  {
   "cell_type": "code",
   "execution_count": null,
   "id": "1fe4dbfa",
   "metadata": {},
   "outputs": [],
   "source": [
    "store_max_sales = monthly_sales[monthly_sales['total_rentals'] == monthly_sales['max_rentals']]"
   ]
  },
  {
   "cell_type": "markdown",
   "id": "1bdf40fa",
   "metadata": {},
   "source": [
    "### Step 7: Select relevant columns and sort by store_id\n",
    "**User intent:** Return store_id, year, rental_month, and total_rentals ordered by store_id"
   ]
  },
  {
   "cell_type": "code",
   "execution_count": null,
   "id": "c2de576f",
   "metadata": {},
   "outputs": [],
   "source": [
    "final_result = store_max_sales[['store_id', 'year', 'rental_month', 'total_rentals']].sort_values('store_id')\n",
    "final_result"
   ]
  }
 ],
 "metadata": {
  "kernelspec": {
   "display_name": "kaggle_env",
   "language": "python",
   "name": "python3"
  },
  "language_info": {
   "codemirror_mode": {
    "name": "ipython",
    "version": 3
   },
   "file_extension": ".py",
   "mimetype": "text/x-python",
   "name": "python",
   "nbconvert_exporter": "python",
   "pygments_lexer": "ipython3",
   "version": "3.13.1"
  }
 },
 "nbformat": 4,
 "nbformat_minor": 5
}
