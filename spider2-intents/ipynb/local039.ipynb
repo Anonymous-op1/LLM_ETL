{
 "cells": [
  {
   "cell_type": "code",
   "execution_count": null,
   "id": "3a5cb9b8",
   "metadata": {},
   "outputs": [],
   "source": [
    "import os\n",
    "import pandas as pd\n",
    "import numpy as np\n",
    "import sys\n",
    "# Add the root directory /workspaces/llm_etl to sys.path\n",
    "sys.path.append(os.path.abspath(os.path.join('..', '..')))\n",
    "# Now import your module\n",
    "from spider2_utils import load_csv_database"
   ]
  },
  {
   "cell_type": "markdown",
   "id": "16eba8dc",
   "metadata": {},
   "source": [
    "-setup-"
   ]
  },
  {
   "cell_type": "code",
   "execution_count": null,
   "id": "e2d48ec3",
   "metadata": {},
   "outputs": [],
   "source": [
    "import pandas as pd\n",
    "\n",
    "_database = load_csv_database(\"Pagila\", rows_limit=-1)\n",
    "\n",
    "category = _database[\"category\"]\n",
    "film_category = _database[\"film_category\"]\n",
    "film = _database[\"film\"]\n",
    "inventory = _database[\"inventory\"]\n",
    "rental = _database[\"rental\"]\n",
    "customer = _database[\"customer\"]\n",
    "address = _database[\"address\"]\n",
    "city = _database[\"city\"]"
   ]
  },
  {
   "cell_type": "markdown",
   "id": "2f28fa83",
   "metadata": {},
   "source": [
    "### Question\n",
    "Please help me find the film category with the highest total rental hours in cities where the city's name either starts with \\\"A\\\" or contains a hyphen."
   ]
  },
  {
   "cell_type": "markdown",
   "id": "a5b1f060",
   "metadata": {},
   "source": [
    "User Intent: Drop 'last_update' columns from all DataFrames if present\n"
   ]
  },
  {
   "cell_type": "code",
   "execution_count": null,
   "id": "40a220d6",
   "metadata": {},
   "outputs": [],
   "source": [
    "for df in [category, film_category, film, inventory, rental, customer, address, city]:\n",
    "    if 'last_update' in df.columns:\n",
    "        df.drop(columns=['last_update'], inplace=True)"
   ]
  },
  {
   "cell_type": "markdown",
   "id": "749f9705",
   "metadata": {},
   "source": [
    "### User Intent 2: Join `category` and `film_category` using `category_id`"
   ]
  },
  {
   "cell_type": "code",
   "execution_count": null,
   "id": "9b6faa43",
   "metadata": {},
   "outputs": [],
   "source": [
    "cat_film_cat = pd.merge(category, film_category, on=\"category_id\")"
   ]
  },
  {
   "cell_type": "markdown",
   "id": "37ceec33",
   "metadata": {},
   "source": [
    "### User Intent 3: Join with `film` using `film_id`"
   ]
  },
  {
   "cell_type": "code",
   "execution_count": null,
   "id": "a62a1f03",
   "metadata": {},
   "outputs": [],
   "source": [
    "cat_film = pd.merge(cat_film_cat, film, on=\"film_id\")"
   ]
  },
  {
   "cell_type": "markdown",
   "id": "c0f80d7c",
   "metadata": {},
   "source": [
    "### User Intent 4: Join with `inventory` using `film_id`"
   ]
  },
  {
   "cell_type": "code",
   "execution_count": null,
   "id": "dffb153d",
   "metadata": {},
   "outputs": [],
   "source": [
    "cat_film_inv = pd.merge(cat_film, inventory, on=\"film_id\")"
   ]
  },
  {
   "cell_type": "markdown",
   "id": "d5d2b233",
   "metadata": {},
   "source": [
    "### User Intent 5: Join with `rental` using `inventory_id`"
   ]
  },
  {
   "cell_type": "code",
   "execution_count": null,
   "id": "08681ed5",
   "metadata": {},
   "outputs": [],
   "source": [
    "cat_film_inv_rent = pd.merge(cat_film_inv, rental, on=\"inventory_id\")"
   ]
  },
  {
   "cell_type": "markdown",
   "id": "0405129e",
   "metadata": {},
   "source": [
    "### User Intent 6: Join with `customer` using `customer_id`"
   ]
  },
  {
   "cell_type": "code",
   "execution_count": null,
   "id": "037c1f4c",
   "metadata": {},
   "outputs": [],
   "source": [
    "cat_rent_cust = pd.merge(cat_film_inv_rent, customer, on=\"customer_id\")"
   ]
  },
  {
   "cell_type": "markdown",
   "id": "28bca165",
   "metadata": {},
   "source": [
    "### User Intent 7: Join with `address` using `address_id`"
   ]
  },
  {
   "cell_type": "code",
   "execution_count": null,
   "id": "0705802f",
   "metadata": {},
   "outputs": [],
   "source": [
    "cat_cust_addr = pd.merge(cat_rent_cust, address, on=\"address_id\")"
   ]
  },
  {
   "cell_type": "markdown",
   "id": "142c29eb",
   "metadata": {},
   "source": [
    "### User Intent 8: Join with `city` using `city_id`"
   ]
  },
  {
   "cell_type": "code",
   "execution_count": null,
   "id": "1c7b302b",
   "metadata": {},
   "outputs": [],
   "source": [
    "cat_addr_city = pd.merge(cat_cust_addr, city, on=\"city_id\")"
   ]
  },
  {
   "cell_type": "markdown",
   "id": "c46a06db",
   "metadata": {},
   "source": [
    "### User Intent 9: Filter rows where city name starts with 'a' or contains a hyphen"
   ]
  },
  {
   "cell_type": "code",
   "execution_count": null,
   "id": "5ba6dbb6",
   "metadata": {},
   "outputs": [],
   "source": [
    "cat_addr_city['city_lower'] = cat_addr_city['city'].str.lower()\n",
    "filtered = cat_addr_city[\n",
    "    (cat_addr_city['city_lower'].str.startswith('a')) | (cat_addr_city['city'].str.contains('-'))\n",
    "]"
   ]
  },
  {
   "cell_type": "markdown",
   "id": "995094d7",
   "metadata": {},
   "source": [
    "### User Intent 10: Compute rental duration in hours for each rental"
   ]
  },
  {
   "cell_type": "code",
   "execution_count": null,
   "id": "60299fac",
   "metadata": {},
   "outputs": [],
   "source": [
    "filtered['rental_date'] = pd.to_datetime(filtered['rental_date'])\n",
    "filtered['return_date'] = pd.to_datetime(filtered['return_date'])\n",
    "filtered['rental_hours'] = (filtered['return_date'] - filtered['rental_date']).dt.total_seconds() / 3600"
   ]
  },
  {
   "cell_type": "markdown",
   "id": "77b6c2ed",
   "metadata": {},
   "source": [
    "### User Intent 11: Group by category name and sum rental hours"
   ]
  },
  {
   "cell_type": "code",
   "execution_count": null,
   "id": "12b6bf67",
   "metadata": {},
   "outputs": [],
   "source": [
    "category_hours = filtered.groupby('name')['rental_hours'].sum().reset_index()"
   ]
  },
  {
   "cell_type": "markdown",
   "id": "5601c64e",
   "metadata": {},
   "source": [
    "### User Intent 12: Sort by total rental hours descending and select the top category"
   ]
  },
  {
   "cell_type": "code",
   "execution_count": null,
   "id": "8e972bed",
   "metadata": {},
   "outputs": [],
   "source": [
    "top_category = category_hours.sort_values(by='rental_hours', ascending=False).head(1)\n",
    "print(top_category)"
   ]
  }
 ],
 "metadata": {
  "kernelspec": {
   "display_name": "kaggle_env",
   "language": "python",
   "name": "python3"
  },
  "language_info": {
   "codemirror_mode": {
    "name": "ipython",
    "version": 3
   },
   "file_extension": ".py",
   "mimetype": "text/x-python",
   "name": "python",
   "nbconvert_exporter": "python",
   "pygments_lexer": "ipython3",
   "version": "3.13.1"
  }
 },
 "nbformat": 4,
 "nbformat_minor": 5
}
