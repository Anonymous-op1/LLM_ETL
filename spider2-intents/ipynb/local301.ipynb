{
 "cells": [
  {
   "cell_type": "code",
   "execution_count": null,
   "metadata": {},
   "outputs": [],
   "source": [
    "import sys\n",
    "import os\n",
    "sys.path.append(os.path.abspath(os.path.join(os.getcwd(), \"..\", \"..\")))\n",
    "from spider2_utils import load_csv_database\n"
   ]
  },
  {
   "cell_type": "markdown",
   "metadata": {},
   "source": [
    "-setup-"
   ]
  },
  {
   "cell_type": "code",
   "execution_count": null,
   "metadata": {},
   "outputs": [],
   "source": [
    "import pandas as pd\n",
    "import numpy as np\n",
    "\n",
    "_database = load_csv_database(\"bank_sales_trading\", rows_limit=-1)\n",
    "cleaned_weekly_sales = _database[\"cleaned_weekly_sales\"]"
   ]
  },
  {
   "cell_type": "markdown",
   "metadata": {},
   "source": [
    "### Question\n",
    "For weekly-sales data, I need an analysis of our sales performance around mid-June for the years 2018, 2019, and 2020. Specifically, calculate the percentage change in sales between the four weeks leading up to June 15 and the four weeks following June 15 for each year."
   ]
  },
  {
   "cell_type": "markdown",
   "metadata": {},
   "source": [
    "###  Step 1: User intent — Compute week offset from June 15, 2018"
   ]
  },
  {
   "cell_type": "code",
   "execution_count": null,
   "metadata": {},
   "outputs": [],
   "source": [
    "df_2018 = cleaned_weekly_sales.copy()\n",
    "df_2018['delta_weeks'] = (((pd.to_datetime(df_2018['week_date']) - pd.to_datetime('2018-06-15')).dt.days) / 7).round().astype(int) + 1"
   ]
  },
  {
   "cell_type": "markdown",
   "metadata": {},
   "source": [
    "###  Step 2: User intent — Filter and sum 'before' and 'after' periods for 2018"
   ]
  },
  {
   "cell_type": "code",
   "execution_count": null,
   "metadata": {},
   "outputs": [],
   "source": [
    "before_2018 = df_2018.loc[df_2018['delta_weeks'].between(-3, 0), 'sales'].sum()\n",
    "after_2018 = df_2018.loc[df_2018['delta_weeks'].between(1, 4), 'sales'].sum()"
   ]
  },
  {
   "cell_type": "markdown",
   "metadata": {},
   "source": [
    "###  Step 3: User intent — Calculate change amount and percentage change for 2018"
   ]
  },
  {
   "cell_type": "code",
   "execution_count": null,
   "metadata": {},
   "outputs": [],
   "source": [
    "change_2018 = after_2018 - before_2018\n",
    "percent_change_2018 = round(((after_2018 / before_2018) - 1) * 100, 2) if before_2018 != 0 else np.nan"
   ]
  },
  {
   "cell_type": "markdown",
   "metadata": {},
   "source": [
    "###  Step 4: User intent — Compute week offset from June 15, 2019"
   ]
  },
  {
   "cell_type": "code",
   "execution_count": null,
   "metadata": {},
   "outputs": [],
   "source": [
    "df_2019 = cleaned_weekly_sales.copy()\n",
    "df_2019['delta_weeks'] = (((pd.to_datetime(df_2019['week_date']) - pd.to_datetime('2019-06-15')).dt.days) / 7).round().astype(int) + 1"
   ]
  },
  {
   "cell_type": "markdown",
   "metadata": {},
   "source": [
    "###  Step 5: User intent — Filter and sum 'before' and 'after' periods for 2019"
   ]
  },
  {
   "cell_type": "code",
   "execution_count": null,
   "metadata": {},
   "outputs": [],
   "source": [
    "before_2019 = df_2019.loc[df_2019['delta_weeks'].between(-3, 0), 'sales'].sum()\n",
    "after_2019 = df_2019.loc[df_2019['delta_weeks'].between(1, 4), 'sales'].sum()"
   ]
  },
  {
   "cell_type": "markdown",
   "metadata": {},
   "source": [
    "###  Step 6: User intent — Calculate change amount and percentage change for 2019"
   ]
  },
  {
   "cell_type": "code",
   "execution_count": null,
   "metadata": {},
   "outputs": [],
   "source": [
    "change_2019 = after_2019 - before_2019\n",
    "percent_change_2019 = round(((after_2019 / before_2019) - 1) * 100, 2) if before_2019 != 0 else np.nan"
   ]
  },
  {
   "cell_type": "markdown",
   "metadata": {},
   "source": [
    "###  Step 7: User intent — Compute week offset from June 15, 2020"
   ]
  },
  {
   "cell_type": "code",
   "execution_count": null,
   "metadata": {},
   "outputs": [],
   "source": [
    "df_2020 = cleaned_weekly_sales.copy()\n",
    "df_2020['delta_weeks'] = (((pd.to_datetime(df_2020['week_date']) - pd.to_datetime('2020-06-15')).dt.days) / 7).round().astype(int) + 1"
   ]
  },
  {
   "cell_type": "markdown",
   "metadata": {},
   "source": [
    "###  Step 8: User intent — Filter and sum 'before' and 'after' periods for 2020"
   ]
  },
  {
   "cell_type": "code",
   "execution_count": null,
   "metadata": {},
   "outputs": [],
   "source": [
    "before_2020 = df_2020.loc[df_2020['delta_weeks'].between(-3, 0), 'sales'].sum()\n",
    "after_2020 = df_2020.loc[df_2020['delta_weeks'].between(1, 4), 'sales'].sum()"
   ]
  },
  {
   "cell_type": "markdown",
   "metadata": {},
   "source": [
    "###  Step 9: User intent — Calculate change amount and percentage change for 2020"
   ]
  },
  {
   "cell_type": "code",
   "execution_count": null,
   "metadata": {},
   "outputs": [],
   "source": [
    "change_2020 = after_2020 - before_2020\n",
    "percent_change_2020 = round(((after_2020 / before_2020) - 1) * 100, 2) if before_2020 != 0 else np.nan"
   ]
  },
  {
   "cell_type": "markdown",
   "metadata": {},
   "source": [
    "###  Step 10: User intent — Combine yearly results into a final DataFrame"
   ]
  },
  {
   "cell_type": "code",
   "execution_count": null,
   "metadata": {},
   "outputs": [],
   "source": [
    "results = pd.DataFrame([\n",
    "    {'year': '2018', 'before_effect': before_2018, 'after_effect': after_2018, 'change_amount': change_2018, 'percent_change': percent_change_2018},\n",
    "    {'year': '2019', 'before_effect': before_2019, 'after_effect': after_2019, 'change_amount': change_2019, 'percent_change': percent_change_2019},\n",
    "    {'year': '2020', 'before_effect': before_2020, 'after_effect': after_2020, 'change_amount': change_2020, 'percent_change': percent_change_2020}\n",
    "])\n",
    "results.sort_values(by='year')"
   ]
  }
 ],
 "metadata": {
  "kernelspec": {
   "display_name": "kaggle_env",
   "language": "python",
   "name": "python3"
  },
  "language_info": {
   "codemirror_mode": {
    "name": "ipython",
    "version": 3
   },
   "file_extension": ".py",
   "mimetype": "text/x-python",
   "name": "python",
   "nbconvert_exporter": "python",
   "pygments_lexer": "ipython3",
   "version": "3.13.1"
  }
 },
 "nbformat": 4,
 "nbformat_minor": 2
}
