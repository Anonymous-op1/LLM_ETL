{
 "cells": [
  {
   "cell_type": "code",
   "execution_count": null,
   "id": "725f011e",
   "metadata": {},
   "outputs": [],
   "source": [
    "#Code to get the load_csv_database function.\n",
    "#We pass this function as context so there's no need to include it when we parse the notebook\n",
    "import sys\n",
    "import os\n",
    "sys.path.append(os.path.abspath(os.path.join(os.getcwd(), \"..\", \"..\")))\n",
    "from spider2_utils import load_csv_database"
   ]
  },
  {
   "cell_type": "markdown",
   "id": "36dfb769",
   "metadata": {},
   "source": [
    "-setup-"
   ]
  },
  {
   "cell_type": "code",
   "execution_count": null,
   "id": "dc43b60b",
   "metadata": {},
   "outputs": [],
   "source": [
    "import pandas as pd\n",
    "_database = load_csv_database(\"Baseball\", rows_limit=-1)\n",
    "\n",
    "appearances = _database[\"appearances\"]\n",
    "batting = _database[\"batting\"]\n",
    "player = _database[\"player\"]"
   ]
  },
  {
   "cell_type": "markdown",
   "id": "86ea972c",
   "metadata": {},
   "source": [
    "# Question\n",
    "I would like to know the given names of baseball players who have achieved the highest value of games played, runs, hits, and home runs, with their corresponding score values."
   ]
  },
  {
   "cell_type": "markdown",
   "id": "4df0d22b",
   "metadata": {},
   "source": [
    "# Step 1: Aggregate Player Statistics\n",
    "Calculate total games played, runs, hits, and home runs for each player."
   ]
  },
  {
   "cell_type": "code",
   "execution_count": null,
   "id": "27b3d631",
   "metadata": {},
   "outputs": [],
   "source": [
    "\n",
    "# Assuming player and batting DataFrames are already loaded\n",
    "player_stats = batting.merge(player, on='player_id')\n",
    "player_stats = player_stats.groupby(['player_id', 'name_given']).agg(\n",
    "    games_played=('g', 'sum'),\n",
    "    runs=('r', 'sum'),\n",
    "    hits=('h', 'sum'),\n",
    "    home_runs=('hr', 'sum')\n",
    ").reset_index()"
   ]
  },
  {
   "cell_type": "markdown",
   "id": "22c14498",
   "metadata": {},
   "source": [
    "# Step 3: Find the Top Player for Each Metric\n",
    "Identify the player with the highest value for each of the following: games played, runs, hits, and home runs."
   ]
  },
  {
   "cell_type": "code",
   "execution_count": null,
   "id": "b4f4787a",
   "metadata": {},
   "outputs": [],
   "source": [
    "# Find the player with the highest value for each metric\n",
    "max_games_played_name = player_stats.loc[player_stats['games_played'].idxmax(), 'name_given']\n",
    "max_games_played_value = player_stats['games_played'].max()\n",
    "\n",
    "max_runs_name = player_stats.loc[player_stats['runs'].idxmax(), 'name_given']\n",
    "max_runs_value = player_stats['runs'].max()\n",
    "\n",
    "max_hits_name = player_stats.loc[player_stats['hits'].idxmax(), 'name_given']\n",
    "max_hits_value = player_stats['hits'].max()\n",
    "\n",
    "max_home_runs_name = player_stats.loc[player_stats['home_runs'].idxmax(), 'name_given']\n",
    "max_home_runs_value = player_stats['home_runs'].max()"
   ]
  },
  {
   "cell_type": "markdown",
   "id": "9482826e",
   "metadata": {},
   "source": [
    "# Step 4: Create the Output DataFrame\n",
    "Assemble the results into a summary dataframe for the Batting Table Toppers."
   ]
  },
  {
   "cell_type": "code",
   "execution_count": null,
   "id": "84bb6c9a",
   "metadata": {},
   "outputs": [],
   "source": [
    "output = pd.DataFrame({\n",
    "    'Category': ['games played', 'runs', 'hits', 'home runs'],\n",
    "    'Player_Name': [\n",
    "        max_games_played_name,\n",
    "        max_runs_name,\n",
    "        max_hits_name,\n",
    "        max_home_runs_name\n",
    "    ],\n",
    "    'Batting_Table_Topper': [\n",
    "        max_games_played_value,\n",
    "        max_runs_value,\n",
    "        max_hits_value,\n",
    "        max_home_runs_value\n",
    "    ]\n",
    "})\n",
    "output"
   ]
  },
  {
   "cell_type": "code",
   "execution_count": null,
   "id": "1319ab86",
   "metadata": {},
   "outputs": [],
   "source": [
    "# gold exec results\n",
    "# Category\tPlayer_Name\tBatting_Table_Topper\n",
    "# games played\tPeter Edward\t3562\n",
    "# runs\tRickey Nelson Henley\t2295\n",
    "# hits\tPeter Edward\t4256\n",
    "# home runs\tBarry Lamar\t762"
   ]
  }
 ],
 "metadata": {
  "kernelspec": {
   "display_name": "kaggle_env",
   "language": "python",
   "name": "python3"
  },
  "language_info": {
   "codemirror_mode": {
    "name": "ipython",
    "version": 3
   },
   "file_extension": ".py",
   "mimetype": "text/x-python",
   "name": "python",
   "nbconvert_exporter": "python",
   "pygments_lexer": "ipython3",
   "version": "3.13.1"
  }
 },
 "nbformat": 4,
 "nbformat_minor": 5
}
