{
 "cells": [
  {
   "cell_type": "code",
   "execution_count": null,
   "id": "df592ae8",
   "metadata": {},
   "outputs": [],
   "source": [
    "#Code to get the load_csv_database function.\n",
    "#We pass this function as context so there's no need to include it when we parse the notebook\n",
    "import sys\n",
    "import os\n",
    "sys.path.append(os.path.abspath(os.path.join(os.getcwd(), \"..\", \"..\")))\n",
    "from spider2_utils import load_csv_database\n",
    "import pandas as pd"
   ]
  },
  {
   "cell_type": "markdown",
   "id": "069da7e1",
   "metadata": {},
   "source": [
    "-setup-"
   ]
  },
  {
   "cell_type": "code",
   "execution_count": null,
   "id": "20ad716d",
   "metadata": {},
   "outputs": [],
   "source": [
    "import pandas as pd\n",
    "_database = load_csv_database(\"Brazilian_E_Commerce\", rows_limit=-1)\n",
    "\n",
    "# Create a dataframe for each key in _database\n",
    "olist_customers = _database[\"olist_customers\"]\n",
    "olist_geolocation = _database[\"olist_geolocation\"]\n",
    "olist_order_items = _database[\"olist_order_items\"]\n",
    "olist_order_payments = _database[\"olist_order_payments\"]\n",
    "olist_order_reviews = _database[\"olist_order_reviews\"]\n",
    "olist_orders = _database[\"olist_orders\"]\n",
    "olist_products = _database[\"olist_products\"]\n",
    "olist_sellers = _database[\"olist_sellers\"]\n",
    "product_category_name_translation = _database[\"product_category_name_translation\"]"
   ]
  },
  {
   "cell_type": "markdown",
   "id": "8709f792",
   "metadata": {},
   "source": [
    "# Question\n",
    "Please identify the top three customers, based on their customer_unique_id, who have the highest number of delivered orders, and provide the average payment value, city, and state for each of these customers."
   ]
  },
  {
   "cell_type": "markdown",
   "id": "63d79e45",
   "metadata": {},
   "source": [
    "# Step 1: Join Orders, Payments, and Customers\n",
    "Merge the olist_orders, olist_order_payments, and olist_customers tables to prepare for aggregation."
   ]
  },
  {
   "cell_type": "code",
   "execution_count": null,
   "id": "ee3e73fb",
   "metadata": {},
   "outputs": [],
   "source": [
    "customer_orders = olist_orders.merge(olist_order_payments, on='order_id')\n",
    "customer_orders = customer_orders.merge(olist_customers, on='customer_id')"
   ]
  },
  {
   "cell_type": "markdown",
   "id": "17112081",
   "metadata": {},
   "source": [
    "# Step 2: Aggregate Delivered Orders and Average Payment\n",
    "Filter for delivered orders and calculate total orders and average payment for each customer."
   ]
  },
  {
   "cell_type": "code",
   "execution_count": null,
   "id": "fe9dc68e",
   "metadata": {},
   "outputs": [],
   "source": [
    "customer_orders = customer_orders[customer_orders['order_status'] == 'delivered']\n",
    "customer_orders = customer_orders.groupby(['customer_unique_id', 'customer_city', 'customer_state']).agg(\n",
    "    Total_Orders_By_Customers=('order_id', 'count'),\n",
    "    Average_Payment_By_Customer=('payment_value', 'mean')\n",
    ").reset_index()"
   ]
  },
  {
   "cell_type": "markdown",
   "id": "2334db80",
   "metadata": {},
   "source": [
    "# Step 3: Retrieve Top 3 Customers by Total Orders\n",
    "Sort customers by total orders and select the top 3."
   ]
  },
  {
   "cell_type": "code",
   "execution_count": null,
   "id": "65ada9e2",
   "metadata": {},
   "outputs": [],
   "source": [
    "top_customers = customer_orders.sort_values(by='Total_Orders_By_Customers', ascending=False)[['customer_unique_id', 'Average_Payment_By_Customer', 'customer_city', 'customer_state']].head(3)\n",
    "top_customers"
   ]
  },
  {
   "cell_type": "code",
   "execution_count": null,
   "id": "5f2685b8",
   "metadata": {},
   "outputs": [],
   "source": [
    "# Average_Payment_By_Customer\tcustomer_city\tcustomer_state\n",
    "# 7.075454545454545\tsao paulo\tSP\n",
    "# 2.4107692307692306\tsao paulo\tSP\n",
    "# 22.65521739130435\tguarulhos\tSP"
   ]
  }
 ],
 "metadata": {
  "kernelspec": {
   "display_name": "kaggle_env",
   "language": "python",
   "name": "python3"
  },
  "language_info": {
   "codemirror_mode": {
    "name": "ipython",
    "version": 3
   },
   "file_extension": ".py",
   "mimetype": "text/x-python",
   "name": "python",
   "nbconvert_exporter": "python",
   "pygments_lexer": "ipython3",
   "version": "3.13.1"
  }
 },
 "nbformat": 4,
 "nbformat_minor": 5
}
