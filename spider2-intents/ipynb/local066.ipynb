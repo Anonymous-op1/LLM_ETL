{
 "cells": [
  {
   "cell_type": "code",
   "execution_count": null,
   "id": "ae7e9b72",
   "metadata": {},
   "outputs": [],
   "source": [
    "import os\n",
    "import pandas as pd\n",
    "import re\n",
    "import math\n",
    "import copy\n",
    "import numpy as np\n",
    "import sys\n",
    "# Add the root directory /workspaces/llm_etl to sys.path\n",
    "sys.path.append(os.path.abspath(os.path.join('..', '..')))\n",
    "# Now import your module\n",
    "from spider2_utils import load_csv_database\n",
    "# Load environment variables\n"
   ]
  },
  {
   "cell_type": "markdown",
   "id": "5d9ac8cd",
   "metadata": {},
   "source": [
    "-setup-"
   ]
  },
  {
   "cell_type": "code",
   "execution_count": null,
   "id": "59b8fa21",
   "metadata": {},
   "outputs": [],
   "source": [
    "import pandas as pd\n",
    "_database = load_csv_database(\"modern_data\", rows_limit=-1)\n",
    "\n",
    "pizza_clean_customer_orders = _database[\"pizza_clean_customer_orders\"]\n",
    "pizza_recipes = _database[\"pizza_recipes\"]\n",
    "pizza_toppings = _database[\"pizza_toppings\"]"
   ]
  },
  {
   "cell_type": "markdown",
   "id": "b483adab",
   "metadata": {},
   "source": [
    "### Question\n",
    "Based on our customer pizza order information, summarize the total quantity of each ingredient used in the pizzas we delivered. Output the name and quantity for each ingredient."
   ]
  },
  {
   "cell_type": "markdown",
   "id": "8fb0a104",
   "metadata": {},
   "source": [
    "### Step 1: Add row number to `pizza_clean_customer_orders`"
   ]
  },
  {
   "cell_type": "code",
   "execution_count": null,
   "id": "b9165d27",
   "metadata": {},
   "outputs": [],
   "source": [
    "pizza_clean_customer_orders = pizza_clean_customer_orders.copy()\n",
    "pizza_clean_customer_orders['original_row_number'] = range(1, len(pizza_clean_customer_orders) + 1)"
   ]
  },
  {
   "cell_type": "markdown",
   "id": "407b047d",
   "metadata": {},
   "source": [
    "### Step 2: Recursively split toppings in `pizza_recipes`"
   ]
  },
  {
   "cell_type": "code",
   "execution_count": null,
   "id": "f8863fdb",
   "metadata": {},
   "outputs": [],
   "source": [
    "topping_rows = []\n",
    "for _, row in pizza_recipes.iterrows():\n",
    "    toppings = row['toppings'].split(',') if pd.notnull(row['toppings']) else []\n",
    "    for topping in toppings:\n",
    "        topping_rows.append({'pizza_id': row['pizza_id'], 'topping_id': topping.strip()})\n",
    "split_regular_toppings = pd.DataFrame(topping_rows)"
   ]
  },
  {
   "cell_type": "markdown",
   "id": "3a7f6fa4",
   "metadata": {},
   "source": [
    "### Step 3: Join regular toppings with customer orders to get base toppings"
   ]
  },
  {
   "cell_type": "code",
   "execution_count": null,
   "id": "fedd973b",
   "metadata": {},
   "outputs": [],
   "source": [
    "cte_base_toppings = pizza_clean_customer_orders.merge(split_regular_toppings, on='pizza_id', how='left')"
   ]
  },
  {
   "cell_type": "markdown",
   "id": "e9050a2e",
   "metadata": {},
   "source": [
    "### Step 4: Recursively split `exclusions`"
   ]
  },
  {
   "cell_type": "code",
   "execution_count": null,
   "id": "1f404ba1",
   "metadata": {},
   "outputs": [],
   "source": [
    "exclusion_rows = []\n",
    "for _, row in pizza_clean_customer_orders.iterrows():\n",
    "    if pd.notnull(row['exclusions']):\n",
    "        toppings = row['exclusions'].split(',')\n",
    "        for topping in toppings:\n",
    "            exclusion_rows.append({**row.to_dict(), 'topping_id': topping.strip()})\n",
    "split_exclusions = pd.DataFrame(exclusion_rows)"
   ]
  },
  {
   "cell_type": "markdown",
   "id": "bb1c5aa7",
   "metadata": {},
   "source": [
    "### Step 5: Recursively split `extras`"
   ]
  },
  {
   "cell_type": "code",
   "execution_count": null,
   "id": "44c84374",
   "metadata": {},
   "outputs": [],
   "source": [
    "extra_rows = []\n",
    "for _, row in pizza_clean_customer_orders.iterrows():\n",
    "    if pd.notnull(row['extras']):\n",
    "        toppings = row['extras'].split(',')\n",
    "        for topping in toppings:\n",
    "            extra_rows.append({**row.to_dict(), 'topping_id': topping.strip()})\n",
    "split_extras = pd.DataFrame(extra_rows)"
   ]
  },
  {
   "cell_type": "markdown",
   "id": "b7e9b37b",
   "metadata": {},
   "source": [
    "### Step 6: Filter base toppings by removing exclusions"
   ]
  },
  {
   "cell_type": "code",
   "execution_count": null,
   "id": "035c1d7a",
   "metadata": {},
   "outputs": [],
   "source": [
    "cte_base_filtered = cte_base_toppings.merge(\n",
    "    split_exclusions[['order_id', 'topping_id']],\n",
    "    on=['order_id', 'topping_id'],\n",
    "    how='left',\n",
    "    indicator=True\n",
    ")\n",
    "cte_base_filtered = cte_base_filtered[cte_base_filtered['_merge'] == 'left_only'].drop(columns=['_merge'])"
   ]
  },
  {
   "cell_type": "markdown",
   "id": "3a809a0c",
   "metadata": {},
   "source": [
    "### Step 7: Combine filtered base toppings with extras"
   ]
  },
  {
   "cell_type": "code",
   "execution_count": null,
   "id": "585259d8",
   "metadata": {},
   "outputs": [],
   "source": [
    "cte_combined_orders = pd.concat([\n",
    "    cte_base_filtered[['order_id', 'customer_id', 'pizza_id', 'order_time', 'original_row_number', 'topping_id']],\n",
    "    split_extras[['order_id', 'customer_id', 'pizza_id', 'order_time', 'original_row_number', 'topping_id']]\n",
    "], ignore_index=True)"
   ]
  },
  {
   "cell_type": "markdown",
   "id": "8101c15b",
   "metadata": {},
   "source": [
    "### Step 8: Join with `pizza_toppings` to get topping names and count frequency"
   ]
  },
  {
   "cell_type": "code",
   "execution_count": null,
   "id": "486abecb",
   "metadata": {},
   "outputs": [],
   "source": [
    "# Ensure both `topping_id` columns are of the same type (string is safer for IDs like '1', '2', '12')\n",
    "cte_combined_orders['topping_id'] = cte_combined_orders['topping_id'].astype(str)\n",
    "pizza_toppings['topping_id'] = pizza_toppings['topping_id'].astype(str)\n",
    "\n",
    "# Perform the merge\n",
    "combined_orders = cte_combined_orders.merge(pizza_toppings, on='topping_id', how='left')\n",
    "\n",
    "# Group by topping name and count\n",
    "topping_counts = combined_orders.groupby('topping_name').size().reset_index(name='topping_count')\n",
    "topping_counts = topping_counts.sort_values(by='topping_count', ascending=False)\n",
    "topping_counts"
   ]
  }
 ],
 "metadata": {
  "kernelspec": {
   "display_name": "kaggle_env",
   "language": "python",
   "name": "python3"
  },
  "language_info": {
   "codemirror_mode": {
    "name": "ipython",
    "version": 3
   },
   "file_extension": ".py",
   "mimetype": "text/x-python",
   "name": "python",
   "nbconvert_exporter": "python",
   "pygments_lexer": "ipython3",
   "version": "3.13.1"
  }
 },
 "nbformat": 4,
 "nbformat_minor": 5
}
