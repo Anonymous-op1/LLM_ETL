{
 "cells": [
  {
   "cell_type": "markdown",
   "id": "8c0954ea",
   "metadata": {},
   "source": [
    "### User Intent 1: Load the datasets into pandas DataFrames"
   ]
  },
  {
   "cell_type": "code",
   "execution_count": null,
   "id": "c6d6e598",
   "metadata": {},
   "outputs": [],
   "source": [
    "\n",
    "import os\n",
    "import pandas as pd\n",
    "import re\n",
    "import math\n",
    "import copy\n",
    "import numpy as np\n",
    "import sys\n",
    "# Add the root directory /workspaces/llm_etl to sys.path\n",
    "sys.path.append(os.path.abspath(os.path.join('..', '..')))\n",
    "# Now import your module\n",
    "from spider2_utils import load_csv_database\n",
    "# Load environment variables"
   ]
  },
  {
   "cell_type": "markdown",
   "id": "2829dd64",
   "metadata": {},
   "source": [
    "-setup-"
   ]
  },
  {
   "cell_type": "code",
   "execution_count": null,
   "id": "bdcc0fc8",
   "metadata": {},
   "outputs": [],
   "source": [
    "_database = load_csv_database(\"education_business\", rows_limit=-1)\n",
    "\n",
    "# Assume CSV files or other sources are available for reading\n",
    "sales_df = _database[\"hardware_fact_sales_monthly\"]\n",
    "product_df = _database[\"hardware_dim_product\"]\n"
   ]
  },
  {
   "cell_type": "markdown",
   "id": "e3b65056",
   "metadata": {},
   "source": [
    "### Question\n",
    "Can you provide a list of hardware product segments along with their unique product counts for 2020 in the output, ordered by the highest percentage increase in unique fact sales products from 2020 to 2021?"
   ]
  },
  {
   "cell_type": "markdown",
   "id": "cb7a31dd",
   "metadata": {},
   "source": [
    "### User Intent 1: Filter sales data for the year 2020"
   ]
  },
  {
   "cell_type": "code",
   "execution_count": null,
   "id": "52186dfd",
   "metadata": {},
   "outputs": [],
   "source": [
    "\n",
    "sales_2020 = sales_df[sales_df['fiscal_year'] == 2020]\n"
   ]
  },
  {
   "cell_type": "markdown",
   "id": "17597c07",
   "metadata": {},
   "source": [
    "### User Intent 2: Join filtered 2020 sales data with product information"
   ]
  },
  {
   "cell_type": "code",
   "execution_count": null,
   "id": "5140566f",
   "metadata": {},
   "outputs": [],
   "source": [
    "\n",
    "sales_2020_joined = pd.merge(sales_2020, product_df, on='product_code', how='inner')\n"
   ]
  },
  {
   "cell_type": "markdown",
   "id": "eb5c7ca7",
   "metadata": {},
   "source": [
    "### User Intent 3: Group by segment and count unique products for 2020"
   ]
  },
  {
   "cell_type": "code",
   "execution_count": null,
   "id": "c2134567",
   "metadata": {},
   "outputs": [],
   "source": [
    "\n",
    "unique_2020 = sales_2020_joined.groupby('segment')['product_code'].nunique().reset_index()\n",
    "unique_2020.rename(columns={'product_code': 'unique_products_2020'}, inplace=True)\n"
   ]
  },
  {
   "cell_type": "markdown",
   "id": "c0a6ac59",
   "metadata": {},
   "source": [
    "### User Intent 4: Filter sales data for the year 2021"
   ]
  },
  {
   "cell_type": "code",
   "execution_count": null,
   "id": "64509131",
   "metadata": {},
   "outputs": [],
   "source": [
    "\n",
    "sales_2021 = sales_df[sales_df['fiscal_year'] == 2021]\n"
   ]
  },
  {
   "cell_type": "markdown",
   "id": "fe794be9",
   "metadata": {},
   "source": [
    "### User Intent 5: Join filtered 2021 sales data with product information"
   ]
  },
  {
   "cell_type": "code",
   "execution_count": null,
   "id": "6b78319f",
   "metadata": {},
   "outputs": [],
   "source": [
    "\n",
    "sales_2021_joined = pd.merge(sales_2021, product_df, on='product_code', how='inner')\n"
   ]
  },
  {
   "cell_type": "markdown",
   "id": "88c60426",
   "metadata": {},
   "source": [
    "### User Intent 6: Group by segment and count unique products for 2021"
   ]
  },
  {
   "cell_type": "code",
   "execution_count": null,
   "id": "4c49a208",
   "metadata": {},
   "outputs": [],
   "source": [
    "\n",
    "unique_2021 = sales_2021_joined.groupby('segment')['product_code'].nunique().reset_index()\n",
    "unique_2021.rename(columns={'product_code': 'unique_products_2021'}, inplace=True)\n"
   ]
  },
  {
   "cell_type": "markdown",
   "id": "4e014134",
   "metadata": {},
   "source": [
    "### User Intent 7: Merge 2020 and 2021 unique product counts on segment"
   ]
  },
  {
   "cell_type": "code",
   "execution_count": null,
   "id": "c0152278",
   "metadata": {},
   "outputs": [],
   "source": [
    "\n",
    "merged = pd.merge(unique_2020, unique_2021, on='segment')\n"
   ]
  },
  {
   "cell_type": "markdown",
   "id": "42fe6ce3",
   "metadata": {},
   "source": [
    "### User Intent 8: Calculate percentage change and sort by it in descending order"
   ]
  },
  {
   "cell_type": "code",
   "execution_count": null,
   "id": "fc0d2761",
   "metadata": {},
   "outputs": [],
   "source": [
    "\n",
    "merged['percentage_change'] = ((merged['unique_products_2021'] - merged['unique_products_2020']) * 100.0) / merged['unique_products_2020']\n",
    "merged['product_count_2020'] = merged['unique_products_2020']\n",
    "result = merged[['segment', 'product_count_2020', 'percentage_change']].copy()\n",
    "result = result.sort_values(by='percentage_change', ascending=False).reset_index(drop=True)\n",
    "result\n"
   ]
  }
 ],
 "metadata": {
  "kernelspec": {
   "display_name": "kaggle_env",
   "language": "python",
   "name": "python3"
  },
  "language_info": {
   "codemirror_mode": {
    "name": "ipython",
    "version": 3
   },
   "file_extension": ".py",
   "mimetype": "text/x-python",
   "name": "python",
   "nbconvert_exporter": "python",
   "pygments_lexer": "ipython3",
   "version": "3.13.1"
  }
 },
 "nbformat": 4,
 "nbformat_minor": 5
}
