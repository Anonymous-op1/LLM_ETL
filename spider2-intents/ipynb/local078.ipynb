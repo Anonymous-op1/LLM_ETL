{
 "cells": [
  {
   "cell_type": "code",
   "execution_count": null,
   "id": "c24e5989",
   "metadata": {},
   "outputs": [],
   "source": [
    "import os\n",
    "import pandas as pd\n",
    "import re\n",
    "import math\n",
    "import copy\n",
    "import sys\n",
    "# Add the root directory /workspaces/llm_etl to sys.path\n",
    "sys.path.append(os.path.abspath(os.path.join('..', '..')))\n",
    "# Now import your module\n",
    "from spider2_utils import load_csv_database\n"
   ]
  },
  {
   "cell_type": "markdown",
   "id": "d6c12c14",
   "metadata": {},
   "source": [
    "-setup-"
   ]
  },
  {
   "cell_type": "code",
   "execution_count": null,
   "id": "6bca42bf",
   "metadata": {},
   "outputs": [],
   "source": [
    "import pandas as pd\n",
    "_database = load_csv_database(\"bank_sales_trading\", rows_limit=-1)\n",
    "\n",
    "interest_metrics = _database[\"interest_metrics\"]\n",
    "interest_map = _database[\"interest_map\"]"
   ]
  },
  {
   "cell_type": "markdown",
   "id": "02c7fb45",
   "metadata": {},
   "source": [
    "### Question\n",
    "Identify the top 10 and bottom 10 interest categories based on their highest composition values across all months. For each category, display the time(MM-YYYY), interest name, and the composition value"
   ]
  },
  {
   "cell_type": "markdown",
   "id": "2c6ee14e",
   "metadata": {},
   "source": [
    "### User Intent 2: Filter out rows from `interest_metrics` where `month_year` is NULL."
   ]
  },
  {
   "cell_type": "code",
   "execution_count": null,
   "id": "5311e58b",
   "metadata": {},
   "outputs": [],
   "source": [
    "interest_metrics_filtered = interest_metrics[interest_metrics['month_year'].notnull()].copy()"
   ]
  },
  {
   "cell_type": "markdown",
   "id": "4ebdd171",
   "metadata": {},
   "source": [
    "### User Intent 3: Join `interest_metrics_filtered` with `interest_map` on `interest_id` = `id`."
   ]
  },
  {
   "cell_type": "code",
   "execution_count": null,
   "id": "c8e2f1a8",
   "metadata": {},
   "outputs": [],
   "source": [
    "joined_df = interest_metrics_filtered.merge(interest_map, left_on='interest_id', right_on='id', how='inner')"
   ]
  },
  {
   "cell_type": "markdown",
   "id": "502140c5",
   "metadata": {},
   "source": [
    "### User Intent 4: Rank compositions within each `interest_name` group in descending order."
   ]
  },
  {
   "cell_type": "code",
   "execution_count": null,
   "id": "9d04a16a",
   "metadata": {},
   "outputs": [],
   "source": [
    "joined_df['interest_rank'] = joined_df.groupby('interest_name')['composition'].rank(method='min', ascending=False)"
   ]
  },
  {
   "cell_type": "markdown",
   "id": "0822798d",
   "metadata": {},
   "source": [
    "### User Intent 5: Filter rows where `interest_rank` is 1."
   ]
  },
  {
   "cell_type": "code",
   "execution_count": null,
   "id": "e0a0ca4c",
   "metadata": {},
   "outputs": [],
   "source": [
    "top_rank_df = joined_df[joined_df['interest_rank'] == 1].copy()"
   ]
  },
  {
   "cell_type": "markdown",
   "id": "476af128",
   "metadata": {},
   "source": [
    "### User Intent 6: Select columns `month_year`, `interest_name`, `composition` for further ranking."
   ]
  },
  {
   "cell_type": "code",
   "execution_count": null,
   "id": "ed80ff32",
   "metadata": {},
   "outputs": [],
   "source": [
    "top_rank_df = top_rank_df[['month_year', 'interest_name', 'composition']].copy()"
   ]
  },
  {
   "cell_type": "markdown",
   "id": "b98f8348",
   "metadata": {},
   "source": [
    "### User Intent 7: Extract top 10 rows by `composition` in descending order."
   ]
  },
  {
   "cell_type": "code",
   "execution_count": null,
   "id": "760e96be",
   "metadata": {},
   "outputs": [],
   "source": [
    "top_10 = top_rank_df.sort_values(by='composition', ascending=False).head(10)"
   ]
  },
  {
   "cell_type": "markdown",
   "id": "a7932ea9",
   "metadata": {},
   "source": [
    "### User Intent 8: Extract bottom 10 rows by `composition` in ascending order."
   ]
  },
  {
   "cell_type": "code",
   "execution_count": null,
   "id": "717e2fd7",
   "metadata": {},
   "outputs": [],
   "source": [
    "bottom_10 = top_rank_df.sort_values(by='composition', ascending=True).head(10)"
   ]
  },
  {
   "cell_type": "markdown",
   "id": "545a8073",
   "metadata": {},
   "source": [
    "### User Intent 9: Combine top 10 and bottom 10 rows into one DataFrame."
   ]
  },
  {
   "cell_type": "code",
   "execution_count": null,
   "id": "31876b94",
   "metadata": {},
   "outputs": [],
   "source": [
    "combined = pd.concat([top_10, bottom_10], axis=0)"
   ]
  },
  {
   "cell_type": "markdown",
   "id": "45fea45f",
   "metadata": {},
   "source": [
    "### User Intent 10: Sort the final result by `composition` in descending order."
   ]
  },
  {
   "cell_type": "code",
   "execution_count": null,
   "id": "77fe5797",
   "metadata": {},
   "outputs": [],
   "source": [
    "final_result = combined.sort_values(by='composition', ascending=False).reset_index(drop=True)\n",
    "final_result"
   ]
  }
 ],
 "metadata": {
  "kernelspec": {
   "display_name": "kaggle_env",
   "language": "python",
   "name": "python3"
  },
  "language_info": {
   "codemirror_mode": {
    "name": "ipython",
    "version": 3
   },
   "file_extension": ".py",
   "mimetype": "text/x-python",
   "name": "python",
   "nbconvert_exporter": "python",
   "pygments_lexer": "ipython3",
   "version": "3.13.1"
  }
 },
 "nbformat": 4,
 "nbformat_minor": 5
}
