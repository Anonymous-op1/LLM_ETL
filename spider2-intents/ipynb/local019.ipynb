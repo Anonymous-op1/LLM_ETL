{
 "cells": [
  {
   "cell_type": "code",
   "execution_count": null,
   "id": "bee828f0",
   "metadata": {},
   "outputs": [],
   "source": [
    "#Code to get the load_csv_database function.\n",
    "#We pass this function as context so there's no need to include it when we parse the notebook\n",
    "import sys\n",
    "import os\n",
    "sys.path.append(os.path.abspath(os.path.join(os.getcwd(), \"..\", \"..\")))\n",
    "from spider2_utils import load_csv_database\n"
   ]
  },
  {
   "cell_type": "markdown",
   "id": "5e36f509",
   "metadata": {},
   "source": [
    "-setup-"
   ]
  },
  {
   "cell_type": "code",
   "execution_count": null,
   "id": "daf0fe21",
   "metadata": {},
   "outputs": [],
   "source": [
    "import pandas as pd\n",
    "_database = load_csv_database(\"WWE\", rows_limit=-1)\n",
    "\n",
    "Belts = _database[\"Belts\"]\n",
    "Cards = _database[\"Cards\"]\n",
    "Events = _database[\"Events\"]\n",
    "Locations = _database[\"Locations\"]\n",
    "Matches = _database[\"Matches\"]\n",
    "Promotions = _database[\"Promotions\"]\n",
    "Wrestlers = _database[\"Wrestlers\"]"
   ]
  },
  {
   "cell_type": "markdown",
   "id": "8aa0e127",
   "metadata": {},
   "source": [
    "# Question\n",
    "For the NXT title that had the shortest match (excluding titles with \"title change\"), what were the names of the two wrestlers involved?"
   ]
  },
  {
   "cell_type": "markdown",
   "id": "04bd2d49",
   "metadata": {},
   "source": [
    "# Step 1: Rename 'name' columns in each dataframe to avoid conflicts during merge"
   ]
  },
  {
   "cell_type": "code",
   "execution_count": null,
   "id": "3b9cfce5",
   "metadata": {},
   "outputs": [],
   "source": [
    "Belts = Belts.rename(columns={'name': 'name_belt'})\n",
    "Loser_Wrestlers = Wrestlers.rename(columns={'name': 'name_loser'})\n",
    "Winner_Wrestlers = Wrestlers.rename(columns={'name': 'name_winner'})\n",
    "Cards = Cards.rename(columns={'name': 'name_card'})\n",
    "Locations = Locations.rename(columns={'name': 'name_location'})\n",
    "Events = Events.rename(columns={'name': 'name_event'})\n",
    "Promotions = Promotions.rename(columns={'name': 'name_promotion'})"
   ]
  },
  {
   "cell_type": "markdown",
   "id": "fe509d55",
   "metadata": {},
   "source": [
    "# Step 2: Merge All Relevant Tables\n",
    "Join the Belts, Matches, Wrestlers, Cards, Locations, Events, and Promotions tables to create a detailed match DataFrame."
   ]
  },
  {
   "cell_type": "code",
   "execution_count": null,
   "id": "8a9c1f29",
   "metadata": {},
   "outputs": [],
   "source": [
    "# Merge all relevant tables to replicate the SQL CTE MatchDetails\n",
    "match_details = Matches.merge(Belts, left_on='title_id', right_on='id', suffixes=('', '_belt'))\n",
    "match_details = match_details.merge(Winner_Wrestlers, left_on='winner_id', right_on='id', suffixes=('_winner', '_w1'))\n",
    "match_details = match_details.merge(Loser_Wrestlers, left_on='loser_id', right_on='id', suffixes=('_loser', '_w2'))\n",
    "match_details = match_details.merge(Cards, left_on='card_id', right_on='id', suffixes=('', '_card'))\n",
    "match_details = match_details.merge(Locations, left_on='location_id', right_on='id', suffixes=('', '_loc'))\n",
    "match_details = match_details.merge(Events, left_on='event_id', right_on='id', suffixes=('', '_event'))\n",
    "match_details = match_details.merge(Promotions, left_on='promotion_id', right_on='id', suffixes=('', '_promo'))"
   ]
  },
  {
   "cell_type": "markdown",
   "id": "4250008a",
   "metadata": {},
   "source": [
    "# Step 3: Filter for NXT Promotion and Valid Titles/Duration\n",
    "Filter for NXT promotion, non-empty duration, non-empty title, and exclude titles containing 'title change'."
   ]
  },
  {
   "cell_type": "code",
   "execution_count": null,
   "id": "49bd8045",
   "metadata": {},
   "outputs": [],
   "source": [
    "# Exclude titles with 'title change' in the name\n",
    "exclude_titles = Belts[Belts['name_belt'].str.contains('title change', case=False, na=False)]['name_belt'].unique()\n",
    "match_details = match_details[(match_details['name_promotion'] == 'NXT') &\n",
    "                              (match_details['duration'] != '') &\n",
    "                              (match_details['name_belt'] != '') &\n",
    "                              (~match_details['name_belt'].isin(exclude_titles))]"
   ]
  },
  {
   "cell_type": "markdown",
   "id": "14c5f94a",
   "metadata": {},
   "source": [
    "# Step 4: Add Match Description and Rank by Duration\n",
    "Create a 'matches' column with the format 'winner vs loser' and rank matches by duration within each title."
   ]
  },
  {
   "cell_type": "code",
   "execution_count": null,
   "id": "81d3cbed",
   "metadata": {},
   "outputs": [],
   "source": [
    "match_details['matches'] = match_details['name_winner'] + ' vs ' + match_details['name_loser']\n",
    "match_details['match_duration'] = match_details['duration']\n",
    "match_details['titles'] = match_details['name_belt']\n",
    "match_details['rank'] = match_details.groupby('titles')['match_duration'].rank(method='first', ascending=True)"
   ]
  },
  {
   "cell_type": "markdown",
   "id": "fec16776",
   "metadata": {},
   "source": [
    "# Step 5: Select the Shortest Match for Each Title\n",
    "Filter to only the shortest match (rank 1) for each title."
   ]
  },
  {
   "cell_type": "code",
   "execution_count": null,
   "id": "c62fdd7f",
   "metadata": {},
   "outputs": [],
   "source": [
    "rank1 = match_details[match_details['rank'] == 1].copy()"
   ]
  },
  {
   "cell_type": "markdown",
   "id": "5abf8716",
   "metadata": {},
   "source": [
    "# Step 6: Extract Wrestler Names from the Shortest Match\n",
    "Split the 'matches' column to get the two wrestler names for the overall shortest match."
   ]
  },
  {
   "cell_type": "code",
   "execution_count": null,
   "id": "5836d900",
   "metadata": {},
   "outputs": [],
   "source": [
    "shortest = rank1.sort_values('match_duration').iloc[0]\n",
    "wrestler1 = shortest['matches'].split(' vs ')[0]\n",
    "wrestler2 = shortest['matches'].split(' vs ')[1]\n",
    "result = pd.DataFrame({'wrestler1': [wrestler1], 'wrestler2': [wrestler2]})\n",
    "result"
   ]
  },
  {
   "cell_type": "code",
   "execution_count": null,
   "id": "2a79fe58",
   "metadata": {},
   "outputs": [],
   "source": [
    "# gold output\n",
    "#wrestler1\twrestler2\n",
    "#Bron Breakker\tDuke Hudson"
   ]
  }
 ],
 "metadata": {
  "kernelspec": {
   "display_name": "kaggle_env",
   "language": "python",
   "name": "python3"
  },
  "language_info": {
   "codemirror_mode": {
    "name": "ipython",
    "version": 3
   },
   "file_extension": ".py",
   "mimetype": "text/x-python",
   "name": "python",
   "nbconvert_exporter": "python",
   "pygments_lexer": "ipython3",
   "version": "3.13.1"
  }
 },
 "nbformat": 4,
 "nbformat_minor": 5
}
