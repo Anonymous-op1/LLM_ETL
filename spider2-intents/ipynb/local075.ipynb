{
 "cells": [
  {
   "cell_type": "code",
   "execution_count": null,
   "id": "ed52a320",
   "metadata": {},
   "outputs": [],
   "source": [
    "import os\n",
    "import pandas as pd\n",
    "import re\n",
    "import math\n",
    "import copy\n",
    "import sys\n",
    "# Add the root directory /workspaces/llm_etl to sys.path\n",
    "sys.path.append(os.path.abspath(os.path.join('..', '..')))\n",
    "# Now import your module\n",
    "from spider2_utils import load_csv_database"
   ]
  },
  {
   "cell_type": "markdown",
   "id": "dc15e2d5",
   "metadata": {},
   "source": [
    "-setup-"
   ]
  },
  {
   "cell_type": "code",
   "execution_count": null,
   "id": "26d65c8b",
   "metadata": {},
   "outputs": [],
   "source": [
    "import pandas as pd\n",
    "_database = load_csv_database(\"bank_sales_trading\", rows_limit=-1)\n",
    "shopping_cart_page_hierarchy = _database[\"shopping_cart_page_hierarchy\"]\n",
    "shopping_cart_events = _database[\"shopping_cart_events\"]"
   ]
  },
  {
   "cell_type": "markdown",
   "id": "d5fce13f",
   "metadata": {},
   "source": [
    "# Question\n",
    "Can you provide a breakdown of how many times each product was viewed, how many times they were added to the shopping cart, and how many times they were left in the cart without being purchased? Also, give me the count of actual purchases for each product. Ensure that products with a page id in (1, 2, 12, 13) are filtered out."
   ]
  },
  {
   "cell_type": "markdown",
   "id": "348852c6",
   "metadata": {},
   "source": [
    "### User Intent 1: Filter `shopping_cart_page_hierarchy` to include only rows where `product_id` is not null."
   ]
  },
  {
   "cell_type": "code",
   "execution_count": null,
   "id": "c3071d93",
   "metadata": {},
   "outputs": [],
   "source": [
    "filtered_hierarchy = shopping_cart_page_hierarchy[shopping_cart_page_hierarchy['product_id'].notnull()]"
   ]
  },
  {
   "cell_type": "markdown",
   "id": "e2f8ed98",
   "metadata": {},
   "source": [
    "### User Intent 2: Merge filtered hierarchy with `shopping_cart_events` on `page_id`."
   ]
  },
  {
   "cell_type": "code",
   "execution_count": null,
   "id": "92fed9fc",
   "metadata": {},
   "outputs": [],
   "source": [
    "merged_data = filtered_hierarchy.merge(shopping_cart_events, on='page_id', how='inner')"
   ]
  },
  {
   "cell_type": "markdown",
   "id": "e11b648a",
   "metadata": {},
   "source": [
    "### User Intent 3: Group by `page_id` to count event_type 1 and 2 as page views and added to cart."
   ]
  },
  {
   "cell_type": "code",
   "execution_count": null,
   "id": "8bd3ba11",
   "metadata": {},
   "outputs": [],
   "source": [
    "product_viewed = merged_data.groupby('page_id').agg(\n",
    "    n_page_views=pd.NamedAgg(column='event_type', aggfunc=lambda x: (x == 1).sum()),\n",
    "    n_added_to_cart=pd.NamedAgg(column='event_type', aggfunc=lambda x: (x == 2).sum())\n",
    ").reset_index()"
   ]
  },
  {
   "cell_type": "markdown",
   "id": "9309f717",
   "metadata": {},
   "source": [
    "### User Intent 4: Filter for purchases (event_type == 3) and exclude specific page_ids, then group by `page_id`."
   ]
  },
  {
   "cell_type": "code",
   "execution_count": null,
   "id": "46e8457f",
   "metadata": {},
   "outputs": [],
   "source": [
    "purchases = shopping_cart_events[shopping_cart_events['event_type'] == 3][['visit_id']].drop_duplicates()\n",
    "filtered_merged = merged_data[\n",
    "    merged_data['visit_id'].isin(purchases['visit_id']) & \n",
    "    (~merged_data['page_id'].isin([1, 2, 12, 13]))\n",
    "]\n",
    "product_purchased = filtered_merged[filtered_merged['event_type'] == 2].groupby('page_id').agg(\n",
    "    purchased_from_cart=('event_type', 'count')\n",
    ").reset_index()"
   ]
  },
  {
   "cell_type": "markdown",
   "id": "087569f9",
   "metadata": {},
   "source": [
    "### User Intent 5: Identify abandoned carts where event_type == 2 but not followed by a purchase (event_type == 3)."
   ]
  },
  {
   "cell_type": "code",
   "execution_count": null,
   "id": "38f236e3",
   "metadata": {},
   "outputs": [],
   "source": [
    "non_purchases = shopping_cart_events[shopping_cart_events['event_type'] == 3][['visit_id']].drop_duplicates()\n",
    "filtered_merged_abandoned = merged_data[\n",
    "    ~merged_data['visit_id'].isin(non_purchases['visit_id']) & \n",
    "    (~merged_data['page_id'].isin([1, 2, 12, 13]))\n",
    "]\n",
    "product_abandoned = filtered_merged_abandoned[filtered_merged_abandoned['event_type'] == 2].groupby('page_id').agg(\n",
    "    abandoned_in_cart=('event_type', 'count')\n",
    ").reset_index()"
   ]
  },
  {
   "cell_type": "markdown",
   "id": "17d62347",
   "metadata": {},
   "source": [
    "### User Intent 6: Join all result tables together with the page name."
   ]
  },
  {
   "cell_type": "code",
   "execution_count": null,
   "id": "5eb06999",
   "metadata": {},
   "outputs": [],
   "source": [
    "final = shopping_cart_page_hierarchy[['page_id', 'page_name']].drop_duplicates()\n",
    "final = final.merge(product_viewed, on='page_id', how='inner')\n",
    "final = final.merge(product_purchased, on='page_id', how='inner')\n",
    "final = final.merge(product_abandoned, on='page_id', how='inner')\n",
    "final = final.rename(columns={\n",
    "    'n_page_views': 'number of product being viewed',\n",
    "    'n_added_to_cart': 'number added to the cart',\n",
    "    'abandoned_in_cart': 'without being purchased in cart',\n",
    "    'purchased_from_cart': 'count of actual purchases'\n",
    "})\n",
    "final"
   ]
  }
 ],
 "metadata": {
  "kernelspec": {
   "display_name": "kaggle_env",
   "language": "python",
   "name": "python3"
  },
  "language_info": {
   "codemirror_mode": {
    "name": "ipython",
    "version": 3
   },
   "file_extension": ".py",
   "mimetype": "text/x-python",
   "name": "python",
   "nbconvert_exporter": "python",
   "pygments_lexer": "ipython3",
   "version": "3.13.1"
  }
 },
 "nbformat": 4,
 "nbformat_minor": 5
}
