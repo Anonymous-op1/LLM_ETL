{
 "cells": [
  {
   "cell_type": "code",
   "execution_count": null,
   "id": "7bfb8178",
   "metadata": {},
   "outputs": [],
   "source": [
    "#Code to get the load_csv_database function.\n",
    "#We pass this function as context so there's no need to include it when we parse the notebook\n",
    "import sys\n",
    "import os\n",
    "sys.path.append(os.path.abspath(os.path.join(os.getcwd(), \"..\", \"..\")))\n",
    "from spider2_utils import load_csv_database"
   ]
  },
  {
   "cell_type": "markdown",
   "id": "3255ae66",
   "metadata": {},
   "source": [
    "-setup-"
   ]
  },
  {
   "cell_type": "code",
   "execution_count": null,
   "id": "8b31eafb",
   "metadata": {},
   "outputs": [],
   "source": [
    "import pandas as pd\n",
    "\n",
    "_database = load_csv_database(\"IPL\", rows_limit=-1)\n",
    "ball_by_ball = _database[\"ball_by_ball\"]\n",
    "match = _database[\"match\"]\n",
    "batsman_scored = _database[\"batsman_scored\"]\n",
    "player_match = _database[\"player_match\"]\n",
    "player = _database[\"player\"]"
   ]
  },
  {
   "cell_type": "markdown",
   "id": "830dd789",
   "metadata": {},
   "source": [
    "# Question\n",
    "Retrieve the names of players who scored no less than 100 runs in a match while playing for the team that lost that match."
   ]
  },
  {
   "cell_type": "markdown",
   "id": "62b24ab2",
   "metadata": {},
   "source": [
    "# Step 1: Merge ball_by_ball and batsman_scored\n",
    "Combine the ball_by_ball and batsman_scored tables on match_id, over_id, ball_id, and innings_no."
   ]
  },
  {
   "cell_type": "code",
   "execution_count": null,
   "id": "f50457c9",
   "metadata": {},
   "outputs": [],
   "source": [
    "merged_balls = ball_by_ball.merge(batsman_scored, on=['match_id', 'over_id', 'ball_id', 'innings_no'])"
   ]
  },
  {
   "cell_type": "markdown",
   "id": "e3857f8a",
   "metadata": {},
   "source": [
    "# Step 2: Group by Player and Match to Calculate Total Runs\n",
    "Aggregate the total runs scored by each player in each match."
   ]
  },
  {
   "cell_type": "code",
   "execution_count": null,
   "id": "dd45e440",
   "metadata": {},
   "outputs": [],
   "source": [
    "player_runs = merged_balls.groupby(['striker', 'match_id']).agg(total_runs=('runs_scored', 'sum')).reset_index()"
   ]
  },
  {
   "cell_type": "markdown",
   "id": "8b0f3347",
   "metadata": {},
   "source": [
    "# Step 3: Filter Players with 100 or More Runs\n",
    "Keep only those player-match pairs where the player scored at least 100 runs."
   ]
  },
  {
   "cell_type": "code",
   "execution_count": null,
   "id": "7821847d",
   "metadata": {},
   "outputs": [],
   "source": [
    "player_runs_100 = player_runs[player_runs['total_runs'] >= 100]"
   ]
  },
  {
   "cell_type": "markdown",
   "id": "8c8c66d3",
   "metadata": {},
   "source": [
    "# Step 4: Identify Losing Teams for Each Match\n",
    "Determine the losing team for each match based on the match winner."
   ]
  },
  {
   "cell_type": "code",
   "execution_count": null,
   "id": "1d0e6a82",
   "metadata": {},
   "outputs": [],
   "source": [
    "losing_teams = match.copy()\n",
    "losing_teams['loser'] = losing_teams.apply(\n",
    "    lambda row: row['team_2'] if row['match_winner'] == row['team_1'] else row['team_1'], axis=1)\n",
    "losing_teams = losing_teams[['match_id', 'loser']]"
   ]
  },
  {
   "cell_type": "markdown",
   "id": "34a54103",
   "metadata": {},
   "source": [
    "# Step 5: Merge Player Runs with Losing Teams\n",
    "Combine the player_runs_100 and losing_teams tables on match_id."
   ]
  },
  {
   "cell_type": "code",
   "execution_count": null,
   "id": "8534ba32",
   "metadata": {},
   "outputs": [],
   "source": [
    "players_and_losers = player_runs_100.merge(losing_teams, on='match_id')"
   ]
  },
  {
   "cell_type": "markdown",
   "id": "313651dc",
   "metadata": {},
   "source": [
    "# Step 6: Merge with player_match to Get Only Players on Losing Teams\n",
    "Join with player_match to ensure the player was on the losing team in that match."
   ]
  },
  {
   "cell_type": "code",
   "execution_count": null,
   "id": "589d539f",
   "metadata": {},
   "outputs": [],
   "source": [
    "players_in_losing_teams = players_and_losers.merge(player_match, left_on=['striker', 'match_id', 'loser'], right_on=['player_id', 'match_id', 'team_id'])"
   ]
  },
  {
   "cell_type": "markdown",
   "id": "9e39e97a",
   "metadata": {},
   "source": [
    "# Step 7: Merge with player Table to Get Player Names\n",
    "Join with the player table to get the player names."
   ]
  },
  {
   "cell_type": "code",
   "execution_count": null,
   "id": "b4ee81cb",
   "metadata": {},
   "outputs": [],
   "source": [
    "players_with_names = players_in_losing_teams.merge(player, left_on='striker', right_on='player_id')"
   ]
  },
  {
   "cell_type": "markdown",
   "id": "0760dfb4",
   "metadata": {},
   "source": [
    "# Step 8: Select Distinct Player Names and Sort\n",
    "Get the unique player names who scored 100+ runs in a match for a losing team, sorted alphabetically."
   ]
  },
  {
   "cell_type": "code",
   "execution_count": null,
   "id": "35c37c03",
   "metadata": {},
   "outputs": [],
   "source": [
    "result = players_with_names[['player_name']].drop_duplicates().sort_values('player_name').reset_index(drop=True)\n",
    "result"
   ]
  },
  {
   "cell_type": "code",
   "execution_count": null,
   "id": "0f6942a9",
   "metadata": {},
   "outputs": [],
   "source": [
    "# player_name\n",
    "# A Symonds\n",
    "# SPD Smith\n",
    "# SR Tendulkar\n",
    "# SR Watson\n",
    "# V Kohli\n",
    "# WP Saha\n",
    "# YK Pathan"
   ]
  }
 ],
 "metadata": {
  "kernelspec": {
   "display_name": "kaggle_env",
   "language": "python",
   "name": "python3"
  },
  "language_info": {
   "codemirror_mode": {
    "name": "ipython",
    "version": 3
   },
   "file_extension": ".py",
   "mimetype": "text/x-python",
   "name": "python",
   "nbconvert_exporter": "python",
   "pygments_lexer": "ipython3",
   "version": "3.13.1"
  }
 },
 "nbformat": 4,
 "nbformat_minor": 5
}
